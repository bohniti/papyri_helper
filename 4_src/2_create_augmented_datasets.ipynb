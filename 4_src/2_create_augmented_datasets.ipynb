{
 "cells": [
  {
   "cell_type": "code",
   "execution_count": 2,
   "id": "cb619eaf-366f-41dd-bcdf-0c489ea250c1",
   "metadata": {},
   "outputs": [],
   "source": [
    "import pandas as pd\n",
    "import toml\n",
    "from tqdm import tqdm\n",
    "from pathlib import Path\n",
    "from skimage import io\n",
    "from skimage.exposure import is_low_contrast\n",
    "from skimage import measure\n",
    "import torch\n",
    "import numpy as np\n",
    "import torch.nn.functional as F\n",
    "import cv2\n",
    "from skimage.color import rgb2gray\n",
    "from skimage.exposure import histogram\n",
    "import matplotlib.pyplot as plt\n",
    "import skimage\n",
    "from skimage.filters import threshold_mean\n",
    "from skimage.segmentation import clear_border\n",
    "from skimage.morphology import convex_hull_object, remove_small_objects"
   ]
  },
  {
   "cell_type": "code",
   "execution_count": 3,
   "id": "fe8905ad-b836-4df0-b54b-e051e5a59b22",
   "metadata": {},
   "outputs": [],
   "source": [
    "csv ='/Users/beantown/PycharmProjects/master-thesis/data/preprocessed/'\n",
    "cleansed ='/Users/beantown/PycharmProjects/master-thesis/data/preprocessed/cleansed'\n",
    "datasets = '/Users/beantown/PycharmProjects/master-thesis/data/preprocessed/datasets/' \n",
    "config = toml.load('./datasets.toml')"
   ]
  },
  {
   "cell_type": "code",
   "execution_count": 4,
   "id": "651097f2-9f60-4a1e-8743-2bd98e645cd0",
   "metadata": {},
   "outputs": [],
   "source": [
    "def pad_image(image, m):\n",
    "    white = [255,255,255]\n",
    "    image = cv2.copyMakeBorder(image, m,m,m,m, cv2.BORDER_CONSTANT, value=white)\n",
    "    x = torch.tensor(np.array([image.T]))\n",
    "    \n",
    "    # define patch size properties for padding and unfolding\n",
    "    kc, kh, kw = 3, m, m  # kernel size\n",
    "    dc, dh, dw = 3, m, m  # stride\n",
    "\n",
    "    # Pad to multiples of m. If image is too small -> go to next image\n",
    "    x = F.pad(x, (x.size(2)%kw // 2, x.size(2)%kw // 2,\n",
    "                  x.size(1)%kh // 2, x.size(1)%kh // 2,\n",
    "                  x.size(0)%kc // 2, x.size(0)%kc // 2), mode='constant',value=255)\n",
    "    return x"
   ]
  },
  {
   "cell_type": "code",
   "execution_count": 5,
   "id": "b761565e-c435-4181-aaa0-6fd0b22c8935",
   "metadata": {},
   "outputs": [],
   "source": [
    "def get_patches(x,m):\n",
    "    kc, kh, kw = 3, m, m  # kernel size\n",
    "    dc, dh, dw = 3, m, m  # stride\n",
    "    patches = x.unfold(1, kc, dc).unfold(2, kh, dh).unfold(3, kw, dw)\n",
    "    return patches.contiguous().view(-1, kc, kh, kw)"
   ]
  },
  {
   "cell_type": "code",
   "execution_count": 6,
   "id": "ad81c87b-ce5b-4ef0-9eb3-cb6b79e8bfd8",
   "metadata": {},
   "outputs": [],
   "source": [
    "def read_img(path, df, i):\n",
    "    return io.imread(cleansed + '/' + df.loc[i].fnames + '.png')"
   ]
  },
  {
   "cell_type": "code",
   "execution_count": 7,
   "id": "f140ed51-3f72-4b85-9ace-0e3ae32abe38",
   "metadata": {},
   "outputs": [],
   "source": [
    "def get_mean(image):\n",
    "    buffer_size = 20\n",
    "    connectivity=2\n",
    "    min_area=100000\n",
    "    image = io.imread(cleansed + '/2_13894_4797LR.png')\n",
    "    gray = rgb2gray(image)\n",
    "    blurred_image = skimage.filters.gaussian(gray, sigma=10.0)\n",
    "    histogram, bin_edges = np.histogram(blurred_image, bins=256, range=(0.0, 1.0))\n",
    "    t = threshold_mean(blurred_image)\n",
    "    binary_mask = blurred_image < t\n",
    "    binary_mask = binary_mask.astype(np.uint8)\n",
    "    #print(type(binary_mask))\n",
    "#    binary_mask = ~binary_mask\n",
    "    return measure.regionprops(binary_mask, gray)[0].intensity_mean"
   ]
  },
  {
   "cell_type": "code",
   "execution_count": 8,
   "id": "f03320a1-4405-4d65-ad86-d8ce0af94506",
   "metadata": {},
   "outputs": [],
   "source": [
    "# arguments must be in the specified order, matching regionprops\n",
    "def image_stdev(region, intensities):\n",
    "    # note the ddof arg to get the sample var if you so desire!\n",
    "    return np.std(intensities[region], ddof=1)"
   ]
  },
  {
   "cell_type": "code",
   "execution_count": 9,
   "id": "202a62f8-d779-478a-a662-fd26d7d5d0eb",
   "metadata": {},
   "outputs": [],
   "source": [
    "from skimage.util import img_as_float"
   ]
  },
  {
   "cell_type": "code",
   "execution_count": 10,
   "id": "c5faffd1-6cb2-41e1-8b46-ddea5e1bf854",
   "metadata": {},
   "outputs": [],
   "source": [
    "def select(patches, selection, n, img):\n",
    "   # evaluate patch -> cast2 numpy\n",
    "    patches = patches.numpy()\n",
    "    selected_metric_values = []\n",
    "    selected_patches = []\n",
    "    selected_patch_ids = []\n",
    "    mean_img = get_mean(img)\n",
    "\n",
    "    if selection == 'random':\n",
    "        decending = True\n",
    "        for patch_id, patch in enumerate(patches):\n",
    "            mc0 = img_as_float(patch[0]).mean()\n",
    "            mc1 = img_as_float(patch[1]).mean()\n",
    "            mc2 = img_as_float(patch[2]).mean()\n",
    "            m = ((mc0 + mc1 + mc2) / 3)\n",
    "            \n",
    "            if m <= 0.8:\n",
    "                selected_patches.append(patch)\n",
    "                labels = np.ones_like(patch.T, dtype=int)                \n",
    "                variance = measure.regionprops(labels, patch.T, extra_properties=[image_stdev])[0].image_stdev\n",
    "                selected_metric_values.append(variance)\n",
    "                selected_patch_ids.append(patch_id)\n",
    "        \n",
    "    \n",
    "    elif selection == 'text':\n",
    "        decending = True\n",
    "        for patch_id, patch in enumerate(patches):\n",
    "            mc0 = img_as_float(patch[0]).mean()\n",
    "            mc1 = img_as_float(patch[1]).mean()\n",
    "            mc2 = img_as_float(patch[2]).mean()            \n",
    "            m = ((mc0 + mc1 + mc2) / 3)\n",
    "            \n",
    "            if m <= 0.85:\n",
    "                gray = rgb2gray(patch.T)\n",
    "                hist, hist_centers = skimage.exposure.histogram(gray, normalize=True)\n",
    "                hist_centers = hist_centers[:-10]\n",
    "                hist = hist[:-10]\n",
    "                arr = gray > 0.25                \n",
    "                forground = np.count_nonzero(arr==0)\n",
    "                selected_patches.append(patch)\n",
    "                labels = np.ones_like(patch.T, dtype=int)                \n",
    "                variance = forground\n",
    "                selected_metric_values.append(variance-m)\n",
    "                selected_patch_ids.append(patch_id)\n",
    "\n",
    "    elif selection == 'mean':\n",
    "        decending = True\n",
    "        for patch_id, patch in enumerate(patches):            \n",
    "            mc0 = img_as_float(patch[0]).mean()\n",
    "            mc1 = img_as_float(patch[1]).mean()\n",
    "            mc2 = img_as_float(patch[2]).mean()            \n",
    "            m = ((mc0 + mc1 + mc2) / 3)            \n",
    "                \n",
    "            if m <= 0.85:\n",
    "                selected_patches.append(patch)\n",
    "\n",
    "                dc0 = abs(mc0 - 0.6143)\n",
    "                dc1 = abs(mc1 - 0.6884)\n",
    "                dc2 = abs(mc2 - 0.7665)                                \n",
    "                td = dc0 + dc1 + dc2\n",
    "                selected_metric_values.append((td-m))\n",
    "                selected_patch_ids.append(patch_id)\n",
    "        \n",
    "    \n",
    "    selected_metric_values = np.array(selected_metric_values)\n",
    "    idx = np.argsort(selected_metric_values)\n",
    "    selected_patches = np.array(selected_patches)[idx]\n",
    "    selected_patch_ids = np.array(selected_patch_ids)[idx]\n",
    "    \n",
    "    if selection == 'random':\n",
    "        if len(selected_patches) < n:\n",
    "            results = selected_patches\n",
    "        else:\n",
    "            idx = np.random.randint(selected_patches.shape[0], size=n)\n",
    "            results = selected_patches[idx]\n",
    "    elif decending:\n",
    "        results = selected_patches[selected_patches.shape[0]-n:]\n",
    "    else:\n",
    "        results = selected_patches[:n]\n",
    "        \n",
    "    return results"
   ]
  },
  {
   "cell_type": "code",
   "execution_count": 11,
   "id": "335780f9-5c62-4d27-9fd2-519681a9b77f",
   "metadata": {},
   "outputs": [],
   "source": [
    "def save(datasets, selected, nr, name, mode, df, i):\n",
    "    dataset_dir = datasets + str(nr) + '_' + name\n",
    "    mode_dir = dataset_dir +  '/' + mode + '/'\n",
    "    Path(dataset_dir).mkdir(parents=True, exist_ok=True)\n",
    "    Path(mode_dir).mkdir(parents=True, exist_ok=True)\n",
    "    \n",
    "    if Path(dataset_dir +'/' +mode + '.csv').is_file():\n",
    "        new_df = pd.read_csv(dataset_dir +'/' +mode + '.csv', index_col=0)\n",
    "    else:\n",
    "        new_df = pd.DataFrame(columns = ['image',\n",
    "                                     'papyri',\n",
    "                                     'original',\n",
    "                                     'position',\n",
    "                                     'fragment',\n",
    "                                    'patch'])\n",
    "        \n",
    "    for j, result in enumerate(selected):\n",
    "        file_name = str(df.loc[i].papyID) + '_' + str(df.loc[i].fragmentID) + '_' + str(j) +'.png'\n",
    "        io.imsave(mode_dir +  file_name, result.T, check_contrast=False)\n",
    "        new_df = new_df.append({'image' :file_name,\n",
    "                            'papyri' : df.loc[i].papyID,\n",
    "                            'original' : df.loc[i].fnames + '.png',\n",
    "                            'position': df.loc[i].posinfo,\n",
    "                            'fragment':df.loc[i].fragmentID,\n",
    "                            'patch':j,\n",
    "                            },ignore_index = True)\n",
    "        \n",
    "    new_df.reset_index(drop=True, inplace=True)\n",
    "    new_df.to_csv(dataset_dir +'/' +mode + '.csv')"
   ]
  },
  {
   "cell_type": "code",
   "execution_count": 12,
   "id": "ee6df304-00c1-45b0-82e1-990bf5f02fd0",
   "metadata": {},
   "outputs": [],
   "source": [
    "def create_dataset(cleansed, datasets, csv, nr, name, selection, m, n):\n",
    "    for mode, df in {'train':pd.read_csv(csv + 'train.csv', index_col=0), 'val': pd.read_csv(csv + 'val.csv', index_col=0), 'test': pd.read_csv(csv+ 'test.csv',index_col=0)}.items():\n",
    "        for i in tqdm(range(len(df))):\n",
    "            image = read_img(cleansed, df, i)\n",
    "            org = image.copy()\n",
    "            image = pad_image(image, m)\n",
    "            patches = get_patches(image, m)\n",
    "            selected = select(patches, selection, n, org)\n",
    "            save(datasets, selected, nr, name, mode, df, i)"
   ]
  },
  {
   "cell_type": "markdown",
   "id": "148f79c6-c8c8-4679-bc29-f6ae7fd09b17",
   "metadata": {},
   "source": [
    "### Debug area"
   ]
  },
  {
   "cell_type": "code",
   "execution_count": 13,
   "id": "0b36e7a5-0cd9-4aa3-af87-917a46a8442a",
   "metadata": {},
   "outputs": [
    {
     "data": {
      "text/plain": [
       "<matplotlib.image.AxesImage at 0x7fd649a01400>"
      ]
     },
     "execution_count": 13,
     "metadata": {},
     "output_type": "execute_result"
    },
    {
     "data": {
      "image/png": "[encoded data removed]",
      "text/plain": [
       "<Figure size 432x288 with 1 Axes>"
      ]
     },
     "metadata": {
      "needs_background": "light"
     },
     "output_type": "display_data"
    }
   ],
   "source": [
    "image = io.imread(cleansed + '/2_13894_4797LR.png')\n",
    "plt.imshow(image)"
   ]
  },
  {
   "cell_type": "code",
   "execution_count": 14,
   "id": "cc26a961-2187-4362-a2af-4492e67c9529",
   "metadata": {},
   "outputs": [],
   "source": [
    "buffer_size = 20\n",
    "connectivity=2\n",
    "min_area=100000\n",
    "image = io.imread(cleansed + '/2_13894_4797LR.png')\n",
    "gray = rgb2gray(image)\n",
    "blurred_image = skimage.filters.gaussian(gray, sigma=10.0)\n",
    "histogram, bin_edges = np.histogram(blurred_image, bins=256, range=(0.0, 1.0))\n",
    "t = threshold_mean(blurred_image)\n",
    "binary_mask = blurred_image < t"
   ]
  },
  {
   "cell_type": "code",
   "execution_count": 14,
   "id": "3b7f6ba6-1ca6-4faf-a6c6-ba03c20cdf14",
   "metadata": {},
   "outputs": [
    {
     "data": {
      "text/plain": [
       "(1473, 1264, 3)"
      ]
     },
     "execution_count": 14,
     "metadata": {},
     "output_type": "execute_result"
    }
   ],
   "source": [
    "#plt.imshow()\n",
    "mask = binary_mask[:, :, None] * np.ones(3, dtype=int)[None, None, :]\n",
    "mask.shape"
   ]
  },
  {
   "cell_type": "code",
   "execution_count": 23,
   "id": "b209a40e-1a96-4afc-a9fe-0cd4dfd286ca",
   "metadata": {},
   "outputs": [
    {
     "data": {
      "image/png": "[encoded data removed]",
      "text/plain": [
       "<Figure size 432x288 with 1 Axes>"
      ]
     },
     "metadata": {
      "needs_background": "light"
     },
     "output_type": "display_data"
    },
    {
     "data": {
      "image/png": "[encoded data removed]",
      "text/plain": [
       "<Figure size 576x216 with 2 Axes>"
      ]
     },
     "metadata": {
      "needs_background": "light"
     },
     "output_type": "display_data"
    },
    {
     "data": {
      "image/png": "[encoded data removed]",
      "text/plain": [
       "<Figure size 576x216 with 2 Axes>"
      ]
     },
     "metadata": {
      "needs_background": "light"
     },
     "output_type": "display_data"
    }
   ],
   "source": [
    "image = io.imread(cleansed + '/2_13894_4797LR.png')\n",
    "mean_img = get_mean(image)\n",
    "image = pad_image(image, 256)\n",
    "patches = get_patches(image, 256)\n",
    "\n",
    "patches = patches.numpy()\n",
    "selected_metric_values = []\n",
    "selected_patches = []\n",
    "selected_patch_ids = []\n",
    "\n",
    "\n",
    "for patch_id, patch in enumerate(patches):\n",
    "    if not is_low_contrast(rgb2gray(patch.T), fraction_threshold=0.05, lower_percentile=1, upper_percentile=99):\n",
    "        #io.imshow(patch.T)\n",
    "        gray = rgb2gray(patch.T)\n",
    "        hist, hist_centers = skimage.exposure.histogram(gray)\n",
    "        hist_centers = hist_centers[:-10]\n",
    "        hist = hist[:-10]\n",
    "        \n",
    "        arr = gray > 0.2\n",
    "        #background = np.count_nonzero(arr==1)\n",
    "        forground = np.count_nonzero(arr==0)\n",
    "        fig, axes = plt.subplots(1, 2, figsize=(8, 3))\n",
    "        axes[0].imshow(gray, cmap=plt.cm.gray)\n",
    "        axes[0].axis('off')\n",
    "        axes[1].plot(hist_centers, hist, lw=2)\n",
    "        axes[1].set_title(f'histogram of gray values score {forground}')\n",
    "        \n",
    "#        print(type(hist))\n",
    " #       print(len(hist_centers))\n",
    "  #      break\n",
    "        \n",
    "        \n",
    "\n",
    "        \n",
    "#        print(forground)\n",
    " #       print(background)\n",
    "        \n",
    "        \n",
    "        fig, axes = plt.subplots(1, 2, figsize=(8, 3), sharey=True)\n",
    "        axes[0].imshow(gray > 0.3, cmap=plt.cm.gray)\n",
    "        axes[0].set_title('coins > 100')\n",
    "        axes[1].imshow(gray > 0.5, cmap=plt.cm.gray)\n",
    "        axes[1].set_title('coins > 150')\n",
    "\n",
    "        for a in axes:\n",
    "            a.axis('off')\n",
    "\n",
    "        plt.tight_layout()\n",
    "        \n",
    "        \n",
    "        selected_patches.append(patch)\n",
    "        labels = np.ones_like(patch.T, dtype=int)                \n",
    "        variance = forground\n",
    "        selected_metric_values.append(variance)\n",
    "        selected_patch_ids.append(patch_id)\n",
    "        decending = True\n",
    "        break"
   ]
  },
  {
   "cell_type": "code",
   "execution_count": 14,
   "id": "601eb90b-c9f6-4b1e-aba9-2414966e2d89",
   "metadata": {},
   "outputs": [],
   "source": [
    "array = np.random.randint(1,10,20)\n",
    "n = 40"
   ]
  },
  {
   "cell_type": "code",
   "execution_count": 18,
   "id": "1e58dcd1-31e4-44cb-b61f-e195cd18c981",
   "metadata": {},
   "outputs": [],
   "source": [
    "#results = array[array.shape[0]-n:]\n",
    "results = array[:n]"
   ]
  },
  {
   "cell_type": "code",
   "execution_count": 17,
   "id": "05137533-d360-4d31-86c5-53f0aa2e3509",
   "metadata": {},
   "outputs": [
    {
     "data": {
      "text/plain": [
       "20"
      ]
     },
     "execution_count": 17,
     "metadata": {},
     "output_type": "execute_result"
    }
   ],
   "source": [
    "len(results)"
   ]
  },
  {
   "cell_type": "markdown",
   "id": "d6cf2792-043d-4c83-9caf-6f5488e94ea8",
   "metadata": {},
   "source": [
    "## Create datasets\n",
    "1. Got other all training, testing and validation images\n",
    "2. Pad the image\n",
    "3. Make m x m patches\n",
    "3. Select n patches\n",
    "4. Save patches with papyID_fragmentID_patchID.png\n",
    "5. create and entry in the corresponding training, testing or validation csv. \n",
    "\n",
    "\n",
    "## Dataset 0 - base_line_small_small"
   ]
  },
  {
   "cell_type": "code",
   "execution_count": 28,
   "id": "3a2fb717-c768-41e6-bff5-20a51fcdb457",
   "metadata": {},
   "outputs": [],
   "source": [
    "dataset_config = config.get('dataset0')"
   ]
  },
  {
   "cell_type": "code",
   "execution_count": 29,
   "id": "68948d5b-9b54-48b2-9c4a-671691c35254",
   "metadata": {},
   "outputs": [
    {
     "name": "stderr",
     "output_type": "stream",
     "text": [
      "100%|█████████████████████████████████████| 1481/1481 [13:32<00:00,  1.82it/s]\n",
      "100%|█████████████████████████████████████| 1457/1457 [13:22<00:00,  1.81it/s]\n",
      "100%|███████████████████████████████████████| 752/752 [03:25<00:00,  3.66it/s]\n"
     ]
    }
   ],
   "source": [
    "create_dataset(cleansed, datasets, csv, dataset_config['nr'], dataset_config['name'], dataset_config['selection'], dataset_config['m'], dataset_config['n'])"
   ]
  },
  {
   "cell_type": "markdown",
   "id": "69732dbc-550d-4cd8-a733-270c8569415b",
   "metadata": {},
   "source": [
    "## Dataset 1 - baseline_small_big"
   ]
  },
  {
   "cell_type": "code",
   "execution_count": 30,
   "id": "7dbe6443-fd38-403a-ab2e-e24b43b12f22",
   "metadata": {},
   "outputs": [
    {
     "name": "stderr",
     "output_type": "stream",
     "text": [
      "100%|█████████████████████████████████████| 1481/1481 [16:09<00:00,  1.53it/s]\n",
      "100%|█████████████████████████████████████| 1457/1457 [15:51<00:00,  1.53it/s]\n",
      "100%|███████████████████████████████████████████████████████████████████████████████████████████████████████████████████████████████████████████████████████████████████████████████████████████| 752/752 [04:38<00:00,  2.70it/s]\n"
     ]
    }
   ],
   "source": [
    "dataset_config = config.get('dataset1')\n",
    "create_dataset(cleansed, datasets, csv, dataset_config['nr'], dataset_config['name'], dataset_config['selection'], dataset_config['m'], dataset_config['n'])"
   ]
  },
  {
   "cell_type": "markdown",
   "id": "61cbc10b-c658-4fdc-aebe-f78c30b84533",
   "metadata": {},
   "source": [
    "## Dataset 2 - baseline_small_bigger"
   ]
  },
  {
   "cell_type": "code",
   "execution_count": 31,
   "id": "63286482-59cd-4f00-8ee1-22495d5eb36f",
   "metadata": {},
   "outputs": [
    {
     "name": "stderr",
     "output_type": "stream",
     "text": [
      "100%|███████████████████████████████████████████████████████████████████████████████████████████████████████████████████████████████████████| 1481/1481 [23:40<00:00,  1.04it/s]\n",
      "100%|███████████████████████████████████████████████████████████████████████████████████████████████████████████████████████████████████████| 1457/1457 [24:14<00:00,  1.00it/s]\n",
      "100%|█████████████████████████████████████████████████████████████████████████████████████████████████████████████████████████████████████████| 752/752 [08:58<00:00,  1.40it/s]\n"
     ]
    }
   ],
   "source": [
    "dataset_config = config.get('dataset2')\n",
    "create_dataset(cleansed, datasets, csv, dataset_config['nr'], dataset_config['name'], dataset_config['selection'], dataset_config['m'], dataset_config['n'])"
   ]
  },
  {
   "cell_type": "markdown",
   "id": "eda7371e-2b46-4d8a-8f09-5bc829d3fb5f",
   "metadata": {},
   "source": [
    "## Dataset 3 - baseline_medium_small"
   ]
  },
  {
   "cell_type": "code",
   "execution_count": null,
   "id": "2e3f6446-3de4-4520-96f6-a319e2560ce0",
   "metadata": {},
   "outputs": [],
   "source": [
    "dataset_config = config.get('dataset3')\n",
    "create_dataset(cleansed, datasets, csv, dataset_config['nr'], dataset_config['name'], dataset_config['selection'], dataset_config['m'], dataset_config['n'])"
   ]
  },
  {
   "cell_type": "markdown",
   "id": "8cbbb6b3-ee46-4151-8f56-f06ddd80f531",
   "metadata": {},
   "source": [
    "## Dataset 4 - baseline_medium_big"
   ]
  },
  {
   "cell_type": "code",
   "execution_count": 58,
   "id": "15f9cb40-763a-4d98-b502-b6410a155650",
   "metadata": {},
   "outputs": [
    {
     "name": "stderr",
     "output_type": "stream",
     "text": [
      "100%|███████████████████████████████████████████████████████████████████████████████████████████████████████████████████████████████████████| 1481/1481 [17:57<00:00,  1.37it/s]\n",
      "100%|███████████████████████████████████████████████████████████████████████████████████████████████████████████████████████████████████████| 1457/1457 [16:42<00:00,  1.45it/s]\n",
      "100%|█████████████████████████████████████████████████████████████████████████████████████████████████████████████████████████████████████████| 752/752 [05:32<00:00,  2.26it/s]\n"
     ]
    }
   ],
   "source": [
    "dataset_config = config.get('dataset4')\n",
    "create_dataset(cleansed, datasets, csv, dataset_config['nr'], dataset_config['name'], dataset_config['selection'], dataset_config['m'], dataset_config['n'])"
   ]
  },
  {
   "cell_type": "markdown",
   "id": "47ffae40-e7be-4fc5-ab0b-cd3565a5906a",
   "metadata": {},
   "source": [
    "## Dataset 5 - baseline_medium_bigger"
   ]
  },
  {
   "cell_type": "code",
   "execution_count": 34,
   "id": "bb27bda2-4578-4f56-b2f4-063cdf5a8364",
   "metadata": {},
   "outputs": [
    {
     "name": "stderr",
     "output_type": "stream",
     "text": [
      "100%|███████████████████████████████████████████████████████████████████████████████████████████████████████████████████████████████████████| 1481/1481 [28:45<00:00,  1.16s/it]\n",
      "100%|███████████████████████████████████████████████████████████████████████████████████████████████████████████████████████████████████████| 1457/1457 [26:38<00:00,  1.10s/it]\n",
      "100%|█████████████████████████████████████████████████████████████████████████████████████████████████████████████████████████████████████████| 752/752 [10:14<00:00,  1.22it/s]\n"
     ]
    }
   ],
   "source": [
    "dataset_config = config.get('dataset5')\n",
    "create_dataset(cleansed, datasets, csv, dataset_config['nr'], dataset_config['name'], dataset_config['selection'], dataset_config['m'], dataset_config['n'])"
   ]
  },
  {
   "cell_type": "markdown",
   "id": "4760d426-5aef-4d8a-b460-6be6fb4a7fa4",
   "metadata": {},
   "source": [
    "## Dataset 6 - baseline_big_small"
   ]
  },
  {
   "cell_type": "code",
   "execution_count": 59,
   "id": "480311d1-1258-499c-a483-8084f933dd83",
   "metadata": {},
   "outputs": [
    {
     "name": "stderr",
     "output_type": "stream",
     "text": [
      "100%|███████████████████████████████████████████████████████████████████████████████████████████████████████████████████████████████████████| 1481/1481 [18:01<00:00,  1.37it/s]\n",
      "100%|███████████████████████████████████████████████████████████████████████████████████████████████████████████████████████████████████████| 1457/1457 [17:14<00:00,  1.41it/s]\n",
      "100%|█████████████████████████████████████████████████████████████████████████████████████████████████████████████████████████████████████████| 752/752 [05:33<00:00,  2.25it/s]\n"
     ]
    }
   ],
   "source": [
    "dataset_config = config.get('dataset6')\n",
    "create_dataset(cleansed, datasets, csv, dataset_config['nr'], dataset_config['name'], dataset_config['selection'], dataset_config['m'], dataset_config['n'])"
   ]
  },
  {
   "cell_type": "markdown",
   "id": "d2e0b416-b46b-4434-afaa-bac6a8779622",
   "metadata": {},
   "source": [
    "## Dataset 7 - baseline_big_big"
   ]
  },
  {
   "cell_type": "code",
   "execution_count": null,
   "id": "ca14277d-b319-42c9-91fa-df450edd9d29",
   "metadata": {},
   "outputs": [
    {
     "name": "stderr",
     "output_type": "stream",
     "text": [
      "100%|██████████████████████████████████████████████████████████████████| 1481/1481 [35:12<00:00,  1.43s/it]\n",
      "100%|██████████████████████████████████████████████████████████████████| 1457/1457 [34:21<00:00,  1.41s/it]\n",
      "100%|████████████████████████████████████████████████████████████████████| 752/752 [10:54<00:00,  1.15it/s]\n",
      "100%|██████████████████████████████████████████████████████████████████| 1481/1481 [32:24<00:00,  1.31s/it]\n",
      "100%|██████████████████████████████████████████████████████████████████| 1457/1457 [36:15<00:00,  1.49s/it]\n",
      "100%|████████████████████████████████████████████████████████████████████| 752/752 [13:25<00:00,  1.07s/it]\n",
      "100%|██████████████████████████████████████████████████████████████████| 1481/1481 [37:01<00:00,  1.50s/it]\n",
      "100%|██████████████████████████████████████████████████████████████████| 1457/1457 [36:45<00:00,  1.51s/it]\n",
      "100%|████████████████████████████████████████████████████████████████████| 752/752 [10:19<00:00,  1.21it/s]\n",
      "100%|██████████████████████████████████████████████████████████████████| 1481/1481 [29:51<00:00,  1.21s/it]\n",
      "100%|██████████████████████████████████████████████████████████████████| 1457/1457 [28:13<00:00,  1.16s/it]\n",
      "100%|████████████████████████████████████████████████████████████████████| 752/752 [09:55<00:00,  1.26it/s]\n",
      "100%|██████████████████████████████████████████████████████████████████| 1481/1481 [29:16<00:00,  1.19s/it]\n",
      "100%|██████████████████████████████████████████████████████████████████| 1457/1457 [28:14<00:00,  1.16s/it]\n",
      "100%|█████████████████████████████████████████████████████████████████████| 752/752 [09:57<00:00,  1.26it/s]\n",
      "100%|███████████████████████████████████████████████████████████████████| 1481/1481 [29:26<00:00,  1.19s/it]\n",
      "100%|███████████████████████████████████████████████████████████████████| 1457/1457 [28:19<00:00,  1.17s/it]\n",
      " 53%|████████████████████████████████████▊                                | 401/752 [05:23<08:14,  1.41s/it]"
     ]
    }
   ],
   "source": [
    "for i in range(2,10):\n",
    "    dataset_config = config.get('dataset7')\n",
    "    create_dataset(cleansed, datasets, csv, dataset_config['nr'], dataset_config['name'] + str(i), dataset_config['selection'], dataset_config['m'], dataset_config['n'])"
   ]
  },
  {
   "cell_type": "markdown",
   "id": "70bac554-c4e5-4052-b267-9630b1a5d4b3",
   "metadata": {},
   "source": [
    "## Dataset 8 - baseline_big_bigger"
   ]
  },
  {
   "cell_type": "code",
   "execution_count": 35,
   "id": "d0be250f-e721-4a9e-8597-535363a6973d",
   "metadata": {},
   "outputs": [
    {
     "name": "stderr",
     "output_type": "stream",
     "text": [
      "100%|███████████████████████████████████████████████████████████████████████████████████████████████████████████████████████████████████████| 1481/1481 [41:53<00:00,  1.70s/it]\n",
      "100%|███████████████████████████████████████████████████████████████████████████████████████████████████████████████████████████████████████| 1457/1457 [39:33<00:00,  1.63s/it]\n",
      "100%|█████████████████████████████████████████████████████████████████████████████████████████████████████████████████████████████████████████| 752/752 [11:59<00:00,  1.05it/s]\n"
     ]
    }
   ],
   "source": [
    "dataset_config = config.get('dataset8')\n",
    "create_dataset(cleansed, datasets, csv, dataset_config['nr'], dataset_config['name'], dataset_config['selection'], dataset_config['m'], dataset_config['n'])"
   ]
  },
  {
   "cell_type": "markdown",
   "id": "db37a3fb-564d-4dc0-9c2d-0f8b0df6893c",
   "metadata": {},
   "source": [
    "## Dataset 9 - mean_small_small"
   ]
  },
  {
   "cell_type": "code",
   "execution_count": 56,
   "id": "a6210d85-1f06-4c7b-9d84-601ca852e6c5",
   "metadata": {},
   "outputs": [
    {
     "name": "stderr",
     "output_type": "stream",
     "text": [
      "100%|██████████████████████████████████████████████████████████████████████| 1481/1481 [12:13<00:00,  2.02it/s]\n",
      "100%|██████████████████████████████████████████████████████████████████████| 1457/1457 [11:49<00:00,  2.05it/s]\n",
      "100%|████████████████████████████████████████████████████████████████████████| 752/752 [04:37<00:00,  2.71it/s]\n"
     ]
    }
   ],
   "source": [
    "dataset_config = config.get('dataset9')\n",
    "create_dataset(cleansed, datasets, csv, dataset_config['nr'], dataset_config['name'], dataset_config['selection'], dataset_config['m'], dataset_config['n'])"
   ]
  },
  {
   "cell_type": "markdown",
   "id": "67bb6915-aeef-4cf8-beb1-4ed5ce8c0208",
   "metadata": {},
   "source": [
    "## Dataset 10 - mean_small_big"
   ]
  },
  {
   "cell_type": "code",
   "execution_count": 60,
   "id": "d436d73a-ed99-4081-93a8-13d9c226e00a",
   "metadata": {},
   "outputs": [
    {
     "name": "stderr",
     "output_type": "stream",
     "text": [
      "100%|███████████████████████████████████████████████████████████████████████████████████████████████████████████████████████████████████████| 1481/1481 [32:58<00:00,  1.34s/it]\n",
      "100%|███████████████████████████████████████████████████████████████████████████████████████████████████████████████████████████████████████| 1457/1457 [31:16<00:00,  1.29s/it]\n",
      "100%|█████████████████████████████████████████████████████████████████████████████████████████████████████████████████████████████████████████| 752/752 [12:00<00:00,  1.04it/s]\n"
     ]
    }
   ],
   "source": [
    "dataset_config = config.get('dataset10')\n",
    "create_dataset(cleansed, datasets, csv, dataset_config['nr'], dataset_config['name'], dataset_config['selection'], dataset_config['m'], dataset_config['n'])v"
   ]
  },
  {
   "cell_type": "markdown",
   "id": "773100a7-f7d8-4d21-b959-dd473754b5c8",
   "metadata": {},
   "source": [
    "## Dataset 11 - mean_small_bigger"
   ]
  },
  {
   "cell_type": "code",
   "execution_count": 36,
   "id": "796a25cf-d09b-40b2-ac1e-d4ff6338065d",
   "metadata": {},
   "outputs": [
    {
     "name": "stderr",
     "output_type": "stream",
     "text": [
      "100%|███████████████████████████████████████████████████████████████████████████████████████████████████████████████████████████████████████| 1481/1481 [18:17<00:00,  1.35it/s]\n",
      "100%|███████████████████████████████████████████████████████████████████████████████████████████████████████████████████████████████████████| 1457/1457 [17:39<00:00,  1.38it/s]\n",
      "100%|█████████████████████████████████████████████████████████████████████████████████████████████████████████████████████████████████████████| 752/752 [06:43<00:00,  1.87it/s]\n"
     ]
    }
   ],
   "source": [
    "dataset_config = config.get('dataset11')\n",
    "create_dataset(cleansed, datasets, csv, dataset_config['nr'], dataset_config['name'], dataset_config['selection'], dataset_config['m'], dataset_config['n'])"
   ]
  },
  {
   "cell_type": "markdown",
   "id": "380e4558-fee2-4450-95f3-78e2026f479b",
   "metadata": {},
   "source": [
    "## Dataset 12 - mean_medium_small"
   ]
  },
  {
   "cell_type": "code",
   "execution_count": 65,
   "id": "4dfa9be1-f7b3-4019-8fab-18ca6df37e04",
   "metadata": {},
   "outputs": [
    {
     "name": "stderr",
     "output_type": "stream",
     "text": [
      "100%|██████████████████████████████████████████████████████████████████████| 1481/1481 [13:46<00:00,  1.79it/s]\n",
      "100%|██████████████████████████████████████████████████████████████████████| 1457/1457 [13:40<00:00,  1.78it/s]\n",
      "100%|████████████████████████████████████████████████████████████████████████| 752/752 [05:27<00:00,  2.30it/s]\n"
     ]
    }
   ],
   "source": [
    "dataset_config = config.get('dataset12')\n",
    "create_dataset(cleansed, datasets, csv, dataset_config['nr'], dataset_config['name'], dataset_config['selection'], dataset_config['m'], dataset_config['n'])"
   ]
  },
  {
   "cell_type": "markdown",
   "id": "61da53b0-b65a-4555-982c-1a0b687dd48f",
   "metadata": {},
   "source": [
    "## Dataset 13 - mean_medium_big"
   ]
  },
  {
   "cell_type": "code",
   "execution_count": 66,
   "id": "c43e1621-2d68-459a-a2ac-df9c7ccfaa2c",
   "metadata": {},
   "outputs": [
    {
     "name": "stderr",
     "output_type": "stream",
     "text": [
      "100%|██████████████████████████████████████████████████████████████████████| 1481/1481 [17:47<00:00,  1.39it/s]\n",
      "100%|██████████████████████████████████████████████████████████████████████| 1457/1457 [16:55<00:00,  1.44it/s]\n",
      "100%|████████████████████████████████████████████████████████████████████████| 752/752 [06:37<00:00,  1.89it/s]\n"
     ]
    }
   ],
   "source": [
    "dataset_config = config.get('dataset13')\n",
    "create_dataset(cleansed, datasets, csv, dataset_config['nr'], dataset_config['name'], dataset_config['selection'], dataset_config['m'], dataset_config['n'])"
   ]
  },
  {
   "cell_type": "markdown",
   "id": "61145eae-252c-43de-86ef-237d2e5c576c",
   "metadata": {},
   "source": [
    "## Dataset 14 - mean_medium_bigger"
   ]
  },
  {
   "cell_type": "code",
   "execution_count": 37,
   "id": "cb7e4102-1a9e-45e6-bcd4-324154c750b9",
   "metadata": {},
   "outputs": [
    {
     "name": "stderr",
     "output_type": "stream",
     "text": [
      "100%|███████████████████████████████████████████████████████████████████████████████████████████████████████████████████████████████████████| 1481/1481 [22:50<00:00,  1.08it/s]\n",
      "100%|███████████████████████████████████████████████████████████████████████████████████████████████████████████████████████████████████████| 1457/1457 [23:05<00:00,  1.05it/s]\n",
      "100%|█████████████████████████████████████████████████████████████████████████████████████████████████████████████████████████████████████████| 752/752 [08:35<00:00,  1.46it/s]\n"
     ]
    }
   ],
   "source": [
    "dataset_config = config.get('dataset14')\n",
    "create_dataset(cleansed, datasets, csv, dataset_config['nr'], dataset_config['name'], dataset_config['selection'], dataset_config['m'], dataset_config['n'])"
   ]
  },
  {
   "cell_type": "markdown",
   "id": "de224260-a909-4883-8236-26ada917f4c1",
   "metadata": {},
   "source": [
    "## Dataset 15 - mean_big_small"
   ]
  },
  {
   "cell_type": "code",
   "execution_count": 68,
   "id": "35fb012f-adb4-4c12-9fe0-74ea87c85740",
   "metadata": {},
   "outputs": [
    {
     "name": "stderr",
     "output_type": "stream",
     "text": [
      "100%|██████████████████████████████████████████████████████████████████████| 1481/1481 [27:05<00:00,  1.10s/it]\n",
      "100%|██████████████████████████████████████████████████████████████████████| 1457/1457 [24:29<00:00,  1.01s/it]\n",
      "100%|████████████████████████████████████████████████████████████████████████| 752/752 [08:42<00:00,  1.44it/s]\n"
     ]
    }
   ],
   "source": [
    "dataset_config = config.get('dataset15')\n",
    "create_dataset(cleansed, datasets, csv, dataset_config['nr'], dataset_config['name'], dataset_config['selection'], dataset_config['m'], dataset_config['n'])"
   ]
  },
  {
   "cell_type": "markdown",
   "id": "1a4be5fe-03b1-474d-9d8a-87025e4a7b6a",
   "metadata": {},
   "source": [
    "## Dataset 16 - mean_big_big"
   ]
  },
  {
   "cell_type": "code",
   "execution_count": 36,
   "id": "1e1c1230-3248-43b3-917d-08b04dacd7ff",
   "metadata": {},
   "outputs": [
    {
     "name": "stderr",
     "output_type": "stream",
     "text": [
      "100%|██████████████████████████████████████████████████████████████████████| 1481/1481 [18:37<00:00,  1.33it/s]\n",
      "100%|██████████████████████████████████████████████████████████████████████| 1457/1457 [17:20<00:00,  1.40it/s]\n",
      "100%|████████████████████████████████████████████████████████████████████████| 752/752 [06:09<00:00,  2.03it/s]\n"
     ]
    }
   ],
   "source": [
    "dataset_config = config.get('dataset16')\n",
    "create_dataset(cleansed, datasets, csv, dataset_config['nr'], dataset_config['name'], dataset_config['selection'], dataset_config['m'], dataset_config['n'])"
   ]
  },
  {
   "cell_type": "markdown",
   "id": "306c3600-410d-4c46-aba4-8d0de954d863",
   "metadata": {},
   "source": [
    "## Dataset 17 - mean_big_bigger"
   ]
  },
  {
   "cell_type": "code",
   "execution_count": 38,
   "id": "0be6a334-5036-4744-b4bd-5758b913a068",
   "metadata": {},
   "outputs": [
    {
     "name": "stderr",
     "output_type": "stream",
     "text": [
      "100%|███████████████████████████████████████████████████████████████████████████████████████████████████████████████████████████████████████| 1481/1481 [28:01<00:00,  1.14s/it]\n",
      "100%|███████████████████████████████████████████████████████████████████████████████████████████████████████████████████████████████████████| 1457/1457 [27:59<00:00,  1.15s/it]\n",
      "100%|█████████████████████████████████████████████████████████████████████████████████████████████████████████████████████████████████████████| 752/752 [09:37<00:00,  1.30it/s]\n"
     ]
    }
   ],
   "source": [
    "dataset_config = config.get('dataset17')\n",
    "create_dataset(cleansed, datasets, csv, dataset_config['nr'], dataset_config['name'], dataset_config['selection'], dataset_config['m'], dataset_config['n'])"
   ]
  },
  {
   "cell_type": "markdown",
   "id": "c4f01c0a-2b26-4180-9073-7de971870efc",
   "metadata": {},
   "source": [
    "## Dataset 18 - text_small_small"
   ]
  },
  {
   "cell_type": "code",
   "execution_count": 34,
   "id": "e0960b95-b246-4439-bf9a-5d9c1dac6394",
   "metadata": {},
   "outputs": [
    {
     "name": "stderr",
     "output_type": "stream",
     "text": [
      "100%|██████████████████████████████████████████████████████████████████████| 1481/1481 [15:36<00:00,  1.58it/s]\n",
      "100%|██████████████████████████████████████████████████████████████████████| 1457/1457 [15:57<00:00,  1.52it/s]\n",
      "100%|████████████████████████████████████████████████████████████████████████| 752/752 [06:38<00:00,  1.89it/s]\n"
     ]
    }
   ],
   "source": [
    "dataset_config = config.get('dataset18')\n",
    "create_dataset(cleansed, datasets, csv, dataset_config['nr'], dataset_config['name'], dataset_config['selection'], dataset_config['m'], dataset_config['n'])"
   ]
  },
  {
   "cell_type": "markdown",
   "id": "c72cb023-25a8-4015-9ce0-7c8c14032143",
   "metadata": {},
   "source": [
    "## Dataset 19 - text_small_big"
   ]
  },
  {
   "cell_type": "code",
   "execution_count": 33,
   "id": "206d3458-5b19-4632-8deb-779d7ca2a566",
   "metadata": {},
   "outputs": [
    {
     "name": "stderr",
     "output_type": "stream",
     "text": [
      "100%|██████████████████████████████████████████████████████████████████████| 1481/1481 [22:51<00:00,  1.08it/s]\n",
      "100%|██████████████████████████████████████████████████████████████████████| 1457/1457 [21:59<00:00,  1.10it/s]\n",
      "100%|████████████████████████████████████████████████████████████████████████| 752/752 [08:23<00:00,  1.49it/s]\n"
     ]
    }
   ],
   "source": [
    "dataset_config = config.get('dataset19')\n",
    "create_dataset(cleansed, datasets, csv, dataset_config['nr'], dataset_config['name'], dataset_config['selection'], dataset_config['m'], dataset_config['n'])"
   ]
  },
  {
   "cell_type": "markdown",
   "id": "ed58e55e-7a9d-4e31-9947-4dc7a3b74c63",
   "metadata": {},
   "source": [
    "## Dataset 20 - text_small_bigger"
   ]
  },
  {
   "cell_type": "code",
   "execution_count": 39,
   "id": "d35da2f8-2da3-4fec-8319-ac6ff3ae2375",
   "metadata": {},
   "outputs": [
    {
     "name": "stderr",
     "output_type": "stream",
     "text": [
      "100%|███████████████████████████████████████████████████████████████████████████████████████████████████████████████████████████████████████| 1481/1481 [23:15<00:00,  1.06it/s]\n",
      "100%|███████████████████████████████████████████████████████████████████████████████████████████████████████████████████████████████████████| 1457/1457 [23:11<00:00,  1.05it/s]\n",
      "100%|█████████████████████████████████████████████████████████████████████████████████████████████████████████████████████████████████████████| 752/752 [08:01<00:00,  1.56it/s]\n"
     ]
    }
   ],
   "source": [
    "dataset_config = config.get('dataset20')\n",
    "create_dataset(cleansed, datasets, csv, dataset_config['nr'], dataset_config['name'], dataset_config['selection'], dataset_config['m'], dataset_config['n'])"
   ]
  },
  {
   "cell_type": "markdown",
   "id": "fd468d17-f5f2-4714-84d5-f69b9185f38b",
   "metadata": {},
   "source": [
    "## Dataset 21 - text_medium_small"
   ]
  },
  {
   "cell_type": "code",
   "execution_count": 31,
   "id": "8a589285-8488-4599-8d1c-c957eeedc248",
   "metadata": {},
   "outputs": [
    {
     "name": "stderr",
     "output_type": "stream",
     "text": [
      "100%|██████████████████████████████████████████████████████████████████████| 1481/1481 [33:48<00:00,  1.37s/it]\n",
      "100%|██████████████████████████████████████████████████████████████████████| 1457/1457 [33:13<00:00,  1.37s/it]\n",
      "100%|████████████████████████████████████████████████████████████████████████| 752/752 [12:11<00:00,  1.03it/s]\n"
     ]
    }
   ],
   "source": [
    "dataset_config = config.get('dataset21')\n",
    "create_dataset(cleansed, datasets, csv, dataset_config['nr'], dataset_config['name'], dataset_config['selection'], dataset_config['m'], dataset_config['n'])"
   ]
  },
  {
   "cell_type": "markdown",
   "id": "3ae0026e-af51-40e1-9c7e-366a2cc6542b",
   "metadata": {},
   "source": [
    "## Dataset 22 - text_medium_big"
   ]
  },
  {
   "cell_type": "code",
   "execution_count": 31,
   "id": "66be6741-b8e8-4e6b-b18b-4729de34601c",
   "metadata": {},
   "outputs": [
    {
     "name": "stderr",
     "output_type": "stream",
     "text": [
      "100%|██████████████████████████████████████████████████████████████████████| 1481/1481 [33:48<00:00,  1.37s/it]\n",
      "100%|██████████████████████████████████████████████████████████████████████| 1457/1457 [33:13<00:00,  1.37s/it]\n",
      "100%|████████████████████████████████████████████████████████████████████████| 752/752 [12:11<00:00,  1.03it/s]\n"
     ]
    }
   ],
   "source": [
    "dataset_config = config.get('dataset22')\n",
    "create_dataset(cleansed, datasets, csv, dataset_config['nr'], dataset_config['name'], dataset_config['selection'], dataset_config['m'], dataset_config['n'])"
   ]
  },
  {
   "cell_type": "markdown",
   "id": "8850da8e-9c07-4ffc-8912-9955a6f8458f",
   "metadata": {},
   "source": [
    "## Dataset 23 - text_medium_bigger"
   ]
  },
  {
   "cell_type": "code",
   "execution_count": 13,
   "id": "46596284-625c-45f2-8a68-0cd341875d18",
   "metadata": {},
   "outputs": [
    {
     "name": "stderr",
     "output_type": "stream",
     "text": [
      "100%|████████████████████████████████████████████████████████████████████| 1481/1481 [27:04<00:00,  1.10s/it]\n",
      "100%|████████████████████████████████████████████████████████████████████| 1457/1457 [26:30<00:00,  1.09s/it]\n",
      "100%|██████████████████████████████████████████████████████████████████████| 752/752 [09:26<00:00,  1.33it/s]\n"
     ]
    }
   ],
   "source": [
    "dataset_config = config.get('dataset23')\n",
    "create_dataset(cleansed, datasets, csv, dataset_config['nr'], dataset_config['name'], dataset_config['selection'], dataset_config['m'], dataset_config['n'])"
   ]
  },
  {
   "cell_type": "markdown",
   "id": "e4104f6a-2b14-4c2f-8fac-41fd7562c19a",
   "metadata": {},
   "source": [
    "## Dataset 24 - text_big_small"
   ]
  },
  {
   "cell_type": "code",
   "execution_count": 31,
   "id": "76f7ee2e-e4b1-464c-82fa-76fa107672c1",
   "metadata": {},
   "outputs": [
    {
     "name": "stderr",
     "output_type": "stream",
     "text": [
      "100%|██████████████████████████████████████████████████████████████████████| 1481/1481 [33:48<00:00,  1.37s/it]\n",
      "100%|██████████████████████████████████████████████████████████████████████| 1457/1457 [33:13<00:00,  1.37s/it]\n",
      "100%|████████████████████████████████████████████████████████████████████████| 752/752 [12:11<00:00,  1.03it/s]\n"
     ]
    }
   ],
   "source": [
    "dataset_config = config.get('dataset24')\n",
    "create_datacset(cleansed, datasets, csv, dataset_config['nr'], dataset_config['name'], dataset_config['selection'], dataset_config['m'], dataset_config['n'])"
   ]
  },
  {
   "cell_type": "markdown",
   "id": "91457948-5435-4c80-ba23-85359feb23fe",
   "metadata": {},
   "source": [
    "## Dataset 25 - text_big_big"
   ]
  },
  {
   "cell_type": "code",
   "execution_count": 31,
   "id": "ab896b5b-6142-4f34-be1c-6eed735cdf80",
   "metadata": {},
   "outputs": [
    {
     "name": "stderr",
     "output_type": "stream",
     "text": [
      "100%|██████████████████████████████████████████████████████████████████████| 1481/1481 [33:48<00:00,  1.37s/it]\n",
      "100%|██████████████████████████████████████████████████████████████████████| 1457/1457 [33:13<00:00,  1.37s/it]\n",
      "100%|████████████████████████████████████████████████████████████████████████| 752/752 [12:11<00:00,  1.03it/s]\n"
     ]
    }
   ],
   "source": [
    "dataset_config = config.get('dataset25')\n",
    "create_datacset(cleansed, datasets, csv, dataset_config['nr'], dataset_config['name'], dataset_config['selection'], dataset_config['m'], dataset_config['n'])"
   ]
  },
  {
   "cell_type": "markdown",
   "id": "c430f847-ee42-47f3-b961-cde7f268ed0f",
   "metadata": {},
   "source": [
    "## Dataset 26 - text_big_bigger"
   ]
  },
  {
   "cell_type": "code",
   "execution_count": 13,
   "id": "07fe811c-c3f9-4283-a18c-858f5c31b202",
   "metadata": {},
   "outputs": [
    {
     "name": "stderr",
     "output_type": "stream",
     "text": [
      "100%|████████████████████████████████████████████████████████████████████| 1481/1481 [39:54<00:00,  1.62s/it]\n",
      "100%|████████████████████████████████████████████████████████████████████| 1457/1457 [39:04<00:00,  1.61s/it]\n",
      "100%|██████████████████████████████████████████████████████████████████████| 752/752 [12:01<00:00,  1.04it/s]\n"
     ]
    }
   ],
   "source": [
    "dataset_config = config.get('dataset26')\n",
    "create_dataset(cleansed, datasets, csv, dataset_config['nr'], dataset_config['name'], dataset_config['selection'], dataset_config['m'], dataset_config['n'])"
   ]
  },
  {
   "cell_type": "code",
   "execution_count": null,
   "id": "e7375d6d-dfb1-4301-bea7-acb815316c4d",
   "metadata": {},
   "outputs": [],
   "source": []
  }
 ],
 "metadata": {
  "kernelspec": {
   "display_name": "features",
   "language": "python",
   "name": "features"
  },
  "language_info": {
   "codemirror_mode": {
    "name": "ipython",
    "version": 3
   },
   "file_extension": ".py",
   "mimetype": "text/x-python",
   "name": "python",
   "nbconvert_exporter": "python",
   "pygments_lexer": "ipython3",
   "version": "3.8.12"
  }
 },
 "nbformat": 4,
 "nbformat_minor": 5
}
