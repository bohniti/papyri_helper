{
 "cells": [
  {
   "cell_type": "code",
   "execution_count": 2,
   "id": "64df5298-9fbf-44d8-a5a0-7b6ad67e45d1",
   "metadata": {},
   "outputs": [],
   "source": [
    "import pandas as pd"
   ]
  },
  {
   "cell_type": "code",
   "execution_count": 14,
   "id": "224ff6c4-326f-4225-83c3-2cac9fddc9cd",
   "metadata": {},
   "outputs": [
    {
     "data": {
      "text/html": [
       "<div>\n",
       "<style scoped>\n",
       "    .dataframe tbody tr th:only-of-type {\n",
       "        vertical-align: middle;\n",
       "    }\n",
       "\n",
       "    .dataframe tbody tr th {\n",
       "        vertical-align: top;\n",
       "    }\n",
       "\n",
       "    .dataframe thead th {\n",
       "        text-align: right;\n",
       "    }\n",
       "</style>\n",
       "<table border=\"1\" class=\"dataframe\">\n",
       "  <thead>\n",
       "    <tr style=\"text-align: right;\">\n",
       "      <th></th>\n",
       "      <th>image</th>\n",
       "      <th>papyri</th>\n",
       "      <th>original</th>\n",
       "      <th>position</th>\n",
       "      <th>fragment</th>\n",
       "      <th>patch</th>\n",
       "    </tr>\n",
       "  </thead>\n",
       "  <tbody>\n",
       "    <tr>\n",
       "      <th>0</th>\n",
       "      <td>140220_140220_1_0.png</td>\n",
       "      <td>140220</td>\n",
       "      <td>1_14022_4919R.png</td>\n",
       "      <td>0</td>\n",
       "      <td>140220_1</td>\n",
       "      <td>0</td>\n",
       "    </tr>\n",
       "    <tr>\n",
       "      <th>1</th>\n",
       "      <td>140220_140220_1_1.png</td>\n",
       "      <td>140220</td>\n",
       "      <td>1_14022_4919R.png</td>\n",
       "      <td>0</td>\n",
       "      <td>140220_1</td>\n",
       "      <td>1</td>\n",
       "    </tr>\n",
       "    <tr>\n",
       "      <th>2</th>\n",
       "      <td>140220_140220_1_2.png</td>\n",
       "      <td>140220</td>\n",
       "      <td>1_14022_4919R.png</td>\n",
       "      <td>0</td>\n",
       "      <td>140220_1</td>\n",
       "      <td>2</td>\n",
       "    </tr>\n",
       "    <tr>\n",
       "      <th>3</th>\n",
       "      <td>140220_140220_1_3.png</td>\n",
       "      <td>140220</td>\n",
       "      <td>1_14022_4919R.png</td>\n",
       "      <td>0</td>\n",
       "      <td>140220_1</td>\n",
       "      <td>3</td>\n",
       "    </tr>\n",
       "    <tr>\n",
       "      <th>4</th>\n",
       "      <td>140220_140220_1_4.png</td>\n",
       "      <td>140220</td>\n",
       "      <td>1_14022_4919R.png</td>\n",
       "      <td>0</td>\n",
       "      <td>140220_1</td>\n",
       "      <td>4</td>\n",
       "    </tr>\n",
       "  </tbody>\n",
       "</table>\n",
       "</div>"
      ],
      "text/plain": [
       "                   image  papyri           original  position  fragment  patch\n",
       "0  140220_140220_1_0.png  140220  1_14022_4919R.png         0  140220_1      0\n",
       "1  140220_140220_1_1.png  140220  1_14022_4919R.png         0  140220_1      1\n",
       "2  140220_140220_1_2.png  140220  1_14022_4919R.png         0  140220_1      2\n",
       "3  140220_140220_1_3.png  140220  1_14022_4919R.png         0  140220_1      3\n",
       "4  140220_140220_1_4.png  140220  1_14022_4919R.png         0  140220_1      4"
      ]
     },
     "execution_count": 14,
     "metadata": {},
     "output_type": "execute_result"
    }
   ],
   "source": [
    "df = pd.read_csv('train.csv', index_col=0)\n",
    "df.head()"
   ]
  },
  {
   "cell_type": "code",
   "execution_count": 15,
   "id": "9b81a52b-ee87-4400-98f9-c9d15ef7d00f",
   "metadata": {},
   "outputs": [],
   "source": [
    "df.drop_duplicates(subset=['original'], keep='first', inplace=True, ignore_index=False)\n",
    "df.image = df.original\n",
    "df.drop(columns=['original'],inplace=True)"
   ]
  },
  {
   "cell_type": "code",
   "execution_count": 16,
   "id": "505df78f-9123-4fa6-a5a3-7d8b7ad0e919",
   "metadata": {},
   "outputs": [
    {
     "data": {
      "text/html": [
       "<div>\n",
       "<style scoped>\n",
       "    .dataframe tbody tr th:only-of-type {\n",
       "        vertical-align: middle;\n",
       "    }\n",
       "\n",
       "    .dataframe tbody tr th {\n",
       "        vertical-align: top;\n",
       "    }\n",
       "\n",
       "    .dataframe thead th {\n",
       "        text-align: right;\n",
       "    }\n",
       "</style>\n",
       "<table border=\"1\" class=\"dataframe\">\n",
       "  <thead>\n",
       "    <tr style=\"text-align: right;\">\n",
       "      <th></th>\n",
       "      <th>image</th>\n",
       "      <th>papyri</th>\n",
       "      <th>position</th>\n",
       "      <th>fragment</th>\n",
       "      <th>patch</th>\n",
       "    </tr>\n",
       "  </thead>\n",
       "  <tbody>\n",
       "    <tr>\n",
       "      <th>0</th>\n",
       "      <td>1_14022_4919R.png</td>\n",
       "      <td>140220</td>\n",
       "      <td>0</td>\n",
       "      <td>140220_1</td>\n",
       "      <td>0</td>\n",
       "    </tr>\n",
       "    <tr>\n",
       "      <th>7</th>\n",
       "      <td>1_13600_4514BV.png</td>\n",
       "      <td>136001</td>\n",
       "      <td>1</td>\n",
       "      <td>136001_1</td>\n",
       "      <td>0</td>\n",
       "    </tr>\n",
       "    <tr>\n",
       "      <th>27</th>\n",
       "      <td>1_17109_5910Z11R.png</td>\n",
       "      <td>171090</td>\n",
       "      <td>0</td>\n",
       "      <td>171090_1</td>\n",
       "      <td>0</td>\n",
       "    </tr>\n",
       "    <tr>\n",
       "      <th>33</th>\n",
       "      <td>0_10945_4107IR.png</td>\n",
       "      <td>109450</td>\n",
       "      <td>0</td>\n",
       "      <td>109450_0</td>\n",
       "      <td>0</td>\n",
       "    </tr>\n",
       "    <tr>\n",
       "      <th>53</th>\n",
       "      <td>0_13930_4816DR.png</td>\n",
       "      <td>139300</td>\n",
       "      <td>0</td>\n",
       "      <td>139300_0</td>\n",
       "      <td>0</td>\n",
       "    </tr>\n",
       "  </tbody>\n",
       "</table>\n",
       "</div>"
      ],
      "text/plain": [
       "                   image  papyri  position  fragment  patch\n",
       "0      1_14022_4919R.png  140220         0  140220_1      0\n",
       "7     1_13600_4514BV.png  136001         1  136001_1      0\n",
       "27  1_17109_5910Z11R.png  171090         0  171090_1      0\n",
       "33    0_10945_4107IR.png  109450         0  109450_0      0\n",
       "53    0_13930_4816DR.png  139300         0  139300_0      0"
      ]
     },
     "execution_count": 16,
     "metadata": {},
     "output_type": "execute_result"
    }
   ],
   "source": [
    "df.head()"
   ]
  },
  {
   "cell_type": "code",
   "execution_count": 17,
   "id": "7dad5508-6afa-429d-bd2c-66d3427e7317",
   "metadata": {},
   "outputs": [
    {
     "data": {
      "text/plain": [
       "422"
      ]
     },
     "execution_count": 17,
     "metadata": {},
     "output_type": "execute_result"
    }
   ],
   "source": [
    "df.papyri.nunique()"
   ]
  },
  {
   "cell_type": "code",
   "execution_count": 18,
   "id": "23bef691-ee83-478e-a1de-725955c61d74",
   "metadata": {},
   "outputs": [],
   "source": [
    "df.to_csv('cleansed.csv')"
   ]
  },
  {
   "cell_type": "code",
   "execution_count": 3,
   "id": "b0a23929-9e92-4f7f-adb8-24629f46ce9a",
   "metadata": {},
   "outputs": [
    {
     "data": {
      "text/html": [
       "<div>\n",
       "<style scoped>\n",
       "    .dataframe tbody tr th:only-of-type {\n",
       "        vertical-align: middle;\n",
       "    }\n",
       "\n",
       "    .dataframe tbody tr th {\n",
       "        vertical-align: top;\n",
       "    }\n",
       "\n",
       "    .dataframe thead th {\n",
       "        text-align: right;\n",
       "    }\n",
       "</style>\n",
       "<table border=\"1\" class=\"dataframe\">\n",
       "  <thead>\n",
       "    <tr style=\"text-align: right;\">\n",
       "      <th></th>\n",
       "      <th>image</th>\n",
       "      <th>papyri</th>\n",
       "      <th>original</th>\n",
       "      <th>position</th>\n",
       "      <th>fragment</th>\n",
       "      <th>patch</th>\n",
       "    </tr>\n",
       "  </thead>\n",
       "  <tbody>\n",
       "    <tr>\n",
       "      <th>0</th>\n",
       "      <td>148001_148001_1_0.png</td>\n",
       "      <td>148001</td>\n",
       "      <td>1_14800_6595BV.png</td>\n",
       "      <td>1</td>\n",
       "      <td>148001_1</td>\n",
       "      <td>0</td>\n",
       "    </tr>\n",
       "    <tr>\n",
       "      <th>1</th>\n",
       "      <td>148001_148001_1_1.png</td>\n",
       "      <td>148001</td>\n",
       "      <td>1_14800_6595BV.png</td>\n",
       "      <td>1</td>\n",
       "      <td>148001_1</td>\n",
       "      <td>1</td>\n",
       "    </tr>\n",
       "    <tr>\n",
       "      <th>2</th>\n",
       "      <td>148001_148001_1_2.png</td>\n",
       "      <td>148001</td>\n",
       "      <td>1_14800_6595BV.png</td>\n",
       "      <td>1</td>\n",
       "      <td>148001_1</td>\n",
       "      <td>2</td>\n",
       "    </tr>\n",
       "    <tr>\n",
       "      <th>3</th>\n",
       "      <td>148001_148001_1_3.png</td>\n",
       "      <td>148001</td>\n",
       "      <td>1_14800_6595BV.png</td>\n",
       "      <td>1</td>\n",
       "      <td>148001_1</td>\n",
       "      <td>3</td>\n",
       "    </tr>\n",
       "    <tr>\n",
       "      <th>4</th>\n",
       "      <td>148001_148001_1_4.png</td>\n",
       "      <td>148001</td>\n",
       "      <td>1_14800_6595BV.png</td>\n",
       "      <td>1</td>\n",
       "      <td>148001_1</td>\n",
       "      <td>4</td>\n",
       "    </tr>\n",
       "  </tbody>\n",
       "</table>\n",
       "</div>"
      ],
      "text/plain": [
       "                   image  papyri            original  position  fragment  \\\n",
       "0  148001_148001_1_0.png  148001  1_14800_6595BV.png         1  148001_1   \n",
       "1  148001_148001_1_1.png  148001  1_14800_6595BV.png         1  148001_1   \n",
       "2  148001_148001_1_2.png  148001  1_14800_6595BV.png         1  148001_1   \n",
       "3  148001_148001_1_3.png  148001  1_14800_6595BV.png         1  148001_1   \n",
       "4  148001_148001_1_4.png  148001  1_14800_6595BV.png         1  148001_1   \n",
       "\n",
       "   patch  \n",
       "0      0  \n",
       "1      1  \n",
       "2      2  \n",
       "3      3  \n",
       "4      4  "
      ]
     },
     "execution_count": 3,
     "metadata": {},
     "output_type": "execute_result"
    }
   ],
   "source": [
    "df = pd.read_csv('val.csv', index_col=0)\n",
    "df.head()"
   ]
  },
  {
   "cell_type": "code",
   "execution_count": 4,
   "id": "21adf77e-30bf-4642-a61b-e673b403110e",
   "metadata": {},
   "outputs": [
    {
     "data": {
      "text/plain": [
       "422"
      ]
     },
     "execution_count": 4,
     "metadata": {},
     "output_type": "execute_result"
    }
   ],
   "source": [
    "df.drop_duplicates(subset=['original'], keep='first', inplace=True, ignore_index=False)\n",
    "df.image = df.original\n",
    "df.drop(columns=['original'],inplace=True)\n",
    "df.papyri.nunique()"
   ]
  },
  {
   "cell_type": "code",
   "execution_count": 5,
   "id": "7750605b-e4ee-4870-bb26-470fa7a84442",
   "metadata": {},
   "outputs": [],
   "source": [
    "df.to_csv('val_cleansed.csv')"
   ]
  },
  {
   "cell_type": "code",
   "execution_count": null,
   "id": "d89bfa37-a9d8-4008-8702-168c548f6958",
   "metadata": {},
   "outputs": [],
   "source": []
  }
 ],
 "metadata": {
  "kernelspec": {
   "display_name": "features",
   "language": "python",
   "name": "features"
  },
  "language_info": {
   "codemirror_mode": {
    "name": "ipython",
    "version": 3
   },
   "file_extension": ".py",
   "mimetype": "text/x-python",
   "name": "python",
   "nbconvert_exporter": "python",
   "pygments_lexer": "ipython3",
   "version": "3.8.12"
  }
 },
 "nbformat": 4,
 "nbformat_minor": 5
}
