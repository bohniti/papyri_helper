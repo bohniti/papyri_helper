{
 "cells": [
  {
   "cell_type": "markdown",
   "metadata": {
    "id": "YpGFMiKfiTuk"
   },
   "source": [
    "# PyTorch Metric Learning\n",
    "See the documentation [here](https://kevinmusgrave.github.io/pytorch-metric-learning/)"
   ]
  },
  {
   "cell_type": "markdown",
   "metadata": {
    "id": "Ix6axXiRiaal"
   },
   "source": [
    "## Install the packages"
   ]
  },
  {
   "cell_type": "code",
   "execution_count": 1,
   "metadata": {
    "colab": {
     "base_uri": "https://localhost:8080/"
    },
    "executionInfo": {
     "elapsed": 12523,
     "status": "ok",
     "timestamp": 1643616784461,
     "user": {
      "displayName": "Timo Bohnstedt",
      "photoUrl": "https://lh3.googleusercontent.com/a-/AOh14GjKtWSKj2quNeSBKu9HJVcxjnTOrJixK-TXw5rjgQ=s64",
      "userId": "17640216031717297977"
     },
     "user_tz": -60
    },
    "id": "yhkMjfZFVyxM",
    "outputId": "3456fbdf-673a-4f8d-d702-5d65ca46e9ad"
   },
   "outputs": [
    {
     "name": "stdout",
     "output_type": "stream",
     "text": [
      "Requirement already satisfied: pytorch-metric-learning in /usr/local/lib/python3.7/dist-packages (1.1.0)\n",
      "Requirement already satisfied: numpy in /usr/local/lib/python3.7/dist-packages (from pytorch-metric-learning) (1.19.5)\n",
      "Requirement already satisfied: torch>=1.6.0 in /usr/local/lib/python3.7/dist-packages (from pytorch-metric-learning) (1.10.0+cu111)\n",
      "Requirement already satisfied: tqdm in /usr/local/lib/python3.7/dist-packages (from pytorch-metric-learning) (4.62.3)\n",
      "Requirement already satisfied: scikit-learn in /usr/local/lib/python3.7/dist-packages (from pytorch-metric-learning) (1.0.2)\n",
      "Requirement already satisfied: torchvision in /usr/local/lib/python3.7/dist-packages (from pytorch-metric-learning) (0.11.1+cu111)\n",
      "Requirement already satisfied: typing-extensions in /usr/local/lib/python3.7/dist-packages (from torch>=1.6.0->pytorch-metric-learning) (3.10.0.2)\n",
      "Requirement already satisfied: scipy>=1.1.0 in /usr/local/lib/python3.7/dist-packages (from scikit-learn->pytorch-metric-learning) (1.4.1)\n",
      "Requirement already satisfied: threadpoolctl>=2.0.0 in /usr/local/lib/python3.7/dist-packages (from scikit-learn->pytorch-metric-learning) (3.0.0)\n",
      "Requirement already satisfied: joblib>=0.11 in /usr/local/lib/python3.7/dist-packages (from scikit-learn->pytorch-metric-learning) (1.1.0)\n",
      "Requirement already satisfied: pillow!=8.3.0,>=5.3.0 in /usr/local/lib/python3.7/dist-packages (from torchvision->pytorch-metric-learning) (7.1.2)\n",
      "Requirement already satisfied: scikit-image==0.19.0 in /usr/local/lib/python3.7/dist-packages (0.19.0)\n",
      "Requirement already satisfied: scipy>=1.4.1 in /usr/local/lib/python3.7/dist-packages (from scikit-image==0.19.0) (1.4.1)\n",
      "Requirement already satisfied: pillow!=7.1.0,!=7.1.1,!=8.3.0,>=6.1.0 in /usr/local/lib/python3.7/dist-packages (from scikit-image==0.19.0) (7.1.2)\n",
      "Requirement already satisfied: packaging>=20.0 in /usr/local/lib/python3.7/dist-packages (from scikit-image==0.19.0) (21.3)\n",
      "Requirement already satisfied: numpy>=1.17.0 in /usr/local/lib/python3.7/dist-packages (from scikit-image==0.19.0) (1.19.5)\n",
      "Requirement already satisfied: PyWavelets>=1.1.1 in /usr/local/lib/python3.7/dist-packages (from scikit-image==0.19.0) (1.2.0)\n",
      "Requirement already satisfied: networkx>=2.2 in /usr/local/lib/python3.7/dist-packages (from scikit-image==0.19.0) (2.6.3)\n",
      "Requirement already satisfied: tifffile>=2019.7.26 in /usr/local/lib/python3.7/dist-packages (from scikit-image==0.19.0) (2021.11.2)\n",
      "Requirement already satisfied: imageio>=2.4.1 in /usr/local/lib/python3.7/dist-packages (from scikit-image==0.19.0) (2.4.1)\n",
      "Requirement already satisfied: pyparsing!=3.0.5,>=2.0.2 in /usr/local/lib/python3.7/dist-packages (from packaging>=20.0->scikit-image==0.19.0) (3.0.7)\n"
     ]
    }
   ],
   "source": [
    "!pip install pytorch-metric-learning\n",
    "!pip install -q faiss-gpu\n",
    "!pip install scikit-image==0.19.0"
   ]
  },
  {
   "cell_type": "code",
   "execution_count": 1,
   "metadata": {
    "executionInfo": {
     "elapsed": 6,
     "status": "ok",
     "timestamp": 1643616784462,
     "user": {
      "displayName": "Timo Bohnstedt",
      "photoUrl": "https://lh3.googleusercontent.com/a-/AOh14GjKtWSKj2quNeSBKu9HJVcxjnTOrJixK-TXw5rjgQ=s64",
      "userId": "17640216031717297977"
     },
     "user_tz": -60
    },
    "id": "6fbt5zome6e7"
   },
   "outputs": [],
   "source": []
  },
  {
   "cell_type": "code",
   "execution_count": 18,
   "metadata": {
    "colab": {
     "base_uri": "https://localhost:8080/"
    },
    "executionInfo": {
     "elapsed": 2323,
     "status": "ok",
     "timestamp": 1643617386350,
     "user": {
      "displayName": "Timo Bohnstedt",
      "photoUrl": "https://lh3.googleusercontent.com/a-/AOh14GjKtWSKj2quNeSBKu9HJVcxjnTOrJixK-TXw5rjgQ=s64",
      "userId": "17640216031717297977"
     },
     "user_tz": -60
    },
    "id": "PR2U1cltJBk1",
    "outputId": "4be68ee1-4569-4621-9939-94dd72dc4ff4"
   },
   "outputs": [
    {
     "name": "stdout",
     "output_type": "stream",
     "text": [
      "Drive already mounted at /content/gdrive; to attempt to forcibly remount, call drive.mount(\"/content/gdrive\", force_remount=True).\n"
     ]
    }
   ],
   "source": [
    "from google.colab import drive\n",
    "drive.mount('/content/gdrive')"
   ]
  },
  {
   "cell_type": "code",
   "execution_count": 19,
   "metadata": {
    "executionInfo": {
     "elapsed": 822,
     "status": "ok",
     "timestamp": 1643617388602,
     "user": {
      "displayName": "Timo Bohnstedt",
      "photoUrl": "https://lh3.googleusercontent.com/a-/AOh14GjKtWSKj2quNeSBKu9HJVcxjnTOrJixK-TXw5rjgQ=s64",
      "userId": "17640216031717297977"
     },
     "user_tz": -60
    },
    "id": "81G1kEfXJGMr"
   },
   "outputs": [],
   "source": [
    "!cp gdrive/My\\ Drive//mt/src/helpers.py .\n",
    "!cp gdrive/My\\ Drive//mt/src/models.py .\n",
    "!cp gdrive/My\\ Drive//mt/src/features.py .\n",
    "!cp gdrive/My\\ Drive//mt/src/0_13241_4467NR.png ."
   ]
  },
  {
   "cell_type": "code",
   "execution_count": 21,
   "metadata": {
    "executionInfo": {
     "elapsed": 315,
     "status": "ok",
     "timestamp": 1643617397682,
     "user": {
      "displayName": "Timo Bohnstedt",
      "photoUrl": "https://lh3.googleusercontent.com/a-/AOh14GjKtWSKj2quNeSBKu9HJVcxjnTOrJixK-TXw5rjgQ=s64",
      "userId": "17640216031717297977"
     },
     "user_tz": -60
    },
    "id": "pRwjWJ6pJLo6"
   },
   "outputs": [],
   "source": [
    "from pathlib import Path\n",
    "\n",
    "train_data = Path(\"./train/\")\n",
    "\n",
    "if not train_data.is_dir():\n",
    "    !unzip gdrive/My\\ Drive//mt/data/train.zip\n",
    "    !unzip gdrive/My\\ Drive//mt/data/test.zip\n",
    "    !unzip gdrive/My\\ Drive//mt/data/val.zip"
   ]
  },
  {
   "cell_type": "markdown",
   "metadata": {
    "id": "arrmHAWJiffp"
   },
   "source": [
    "## Import the packages"
   ]
  },
  {
   "cell_type": "code",
   "execution_count": 22,
   "metadata": {
    "executionInfo": {
     "elapsed": 228,
     "status": "ok",
     "timestamp": 1643617434545,
     "user": {
      "displayName": "Timo Bohnstedt",
      "photoUrl": "https://lh3.googleusercontent.com/a-/AOh14GjKtWSKj2quNeSBKu9HJVcxjnTOrJixK-TXw5rjgQ=s64",
      "userId": "17640216031717297977"
     },
     "user_tz": -60
    },
    "id": "u-TsIJjkVmwt"
   },
   "outputs": [],
   "source": [
    "%matplotlib inline\n",
    "import matplotlib.pyplot as plt\n",
    "import numpy as np\n",
    "import torch\n",
    "import torchvision\n",
    "from torchvision import datasets, transforms\n",
    "import toml\n",
    "from pytorch_metric_learning.distances import CosineSimilarity\n",
    "from pytorch_metric_learning.utils import common_functions as c_f\n",
    "from pytorch_metric_learning.utils.inference import InferenceModel, MatchFinder\n",
    "import helpers\n",
    "import models\n",
    "import features\n",
    "import PIL"
   ]
  },
  {
   "cell_type": "markdown",
   "metadata": {
    "id": "TAqGqYrnihQc"
   },
   "source": [
    "## Create helper functions"
   ]
  },
  {
   "cell_type": "code",
   "execution_count": 23,
   "metadata": {
    "executionInfo": {
     "elapsed": 224,
     "status": "ok",
     "timestamp": 1643617436676,
     "user": {
      "displayName": "Timo Bohnstedt",
      "photoUrl": "https://lh3.googleusercontent.com/a-/AOh14GjKtWSKj2quNeSBKu9HJVcxjnTOrJixK-TXw5rjgQ=s64",
      "userId": "17640216031717297977"
     },
     "user_tz": -60
    },
    "id": "WdUzoef_WtCa"
   },
   "outputs": [],
   "source": [
    "def print_decision(is_match):\n",
    "    if is_match:\n",
    "        print(\"Same class\")\n",
    "    else:\n",
    "        print(\"Different class\")\n",
    "\n",
    "\n",
    "mean = [0.6143, 0.6884, 0.7665]\n",
    "std = [0.2909, 0.2548, 0.2122]\n",
    "\n",
    "inv_normalize = transforms.Normalize(\n",
    "    mean=[-m / s for m, s in zip(mean, std)], std=[1 / s for s in std]\n",
    ")\n",
    "\n",
    "\n",
    "def imshow(img, figsize=(8, 4)):\n",
    "    img = inv_normalize(img)\n",
    "    npimg = img.numpy()\n",
    "    plt.figure(figsize=figsize)\n",
    "    plt.imshow(np.transpose(npimg, (1, 2, 0)))\n",
    "    plt.show()"
   ]
  },
  {
   "cell_type": "code",
   "execution_count": 33,
   "metadata": {
    "executionInfo": {
     "elapsed": 235,
     "status": "ok",
     "timestamp": 1643617622274,
     "user": {
      "displayName": "Timo Bohnstedt",
      "photoUrl": "https://lh3.googleusercontent.com/a-/AOh14GjKtWSKj2quNeSBKu9HJVcxjnTOrJixK-TXw5rjgQ=s64",
      "userId": "17640216031717297977"
     },
     "user_tz": -60
    },
    "id": "T0XtwiSZJaMo"
   },
   "outputs": [],
   "source": [
    "config = toml.load('./gdrive/MyDrive/mt/conf/conf.toml')\n",
    "setting = config.get('settings')\n",
    "param = config.get('params')\n",
    "device = torch.device(\"cuda\" if torch.cuda.is_available() else \"cpu\")"
   ]
  },
  {
   "cell_type": "code",
   "execution_count": 34,
   "metadata": {
    "executionInfo": {
     "elapsed": 2,
     "status": "ok",
     "timestamp": 1643617623171,
     "user": {
      "displayName": "Timo Bohnstedt",
      "photoUrl": "https://lh3.googleusercontent.com/a-/AOh14GjKtWSKj2quNeSBKu9HJVcxjnTOrJixK-TXw5rjgQ=s64",
      "userId": "17640216031717297977"
     },
     "user_tz": -60
    },
    "id": "g9qCfK4cIvR6"
   },
   "outputs": [],
   "source": [
    "transform = transforms.Compose(\n",
    "    [transforms.ToTensor(), transforms.Normalize(mean=mean, std=std)]\n",
    ")"
   ]
  },
  {
   "cell_type": "code",
   "execution_count": 39,
   "metadata": {
    "executionInfo": {
     "elapsed": 3,
     "status": "ok",
     "timestamp": 1643617652527,
     "user": {
      "displayName": "Timo Bohnstedt",
      "photoUrl": "https://lh3.googleusercontent.com/a-/AOh14GjKtWSKj2quNeSBKu9HJVcxjnTOrJixK-TXw5rjgQ=s64",
      "userId": "17640216031717297977"
     },
     "user_tz": -60
    },
    "id": "CNqKFo0cJ7eS"
   },
   "outputs": [],
   "source": [
    "dataset = features.PypyrusDataset(data=setting['path_test'],\n",
    "                               csv=setting['csv'],\n",
    "                               mode='test',\n",
    "                               transform=transform,\n",
    "                               debug=False,\n",
    "                               batch_size=64,)"
   ]
  },
  {
   "cell_type": "code",
   "execution_count": 40,
   "metadata": {
    "executionInfo": {
     "elapsed": 1,
     "status": "ok",
     "timestamp": 1643617653354,
     "user": {
      "displayName": "Timo Bohnstedt",
      "photoUrl": "https://lh3.googleusercontent.com/a-/AOh14GjKtWSKj2quNeSBKu9HJVcxjnTOrJixK-TXw5rjgQ=s64",
      "userId": "17640216031717297977"
     },
     "user_tz": -60
    },
    "id": "vyMrHUmfJAmy"
   },
   "outputs": [],
   "source": [
    "labels_to_indices = c_f.get_labels_to_indices(dataset.targets)"
   ]
  },
  {
   "cell_type": "code",
   "execution_count": 41,
   "metadata": {
    "colab": {
     "base_uri": "https://localhost:8080/"
    },
    "executionInfo": {
     "elapsed": 3,
     "status": "ok",
     "timestamp": 1643617653720,
     "user": {
      "displayName": "Timo Bohnstedt",
      "photoUrl": "https://lh3.googleusercontent.com/a-/AOh14GjKtWSKj2quNeSBKu9HJVcxjnTOrJixK-TXw5rjgQ=s64",
      "userId": "17640216031717297977"
     },
     "user_tz": -60
    },
    "id": "_2sNdsEdJZh2",
    "outputId": "0822e8c0-4d4f-47bb-b581-090b520749f1"
   },
   "outputs": [
    {
     "data": {
      "text/plain": [
       "100"
      ]
     },
     "execution_count": 41,
     "metadata": {},
     "output_type": "execute_result"
    }
   ],
   "source": [
    "len(labels_to_indices)"
   ]
  },
  {
   "cell_type": "markdown",
   "metadata": {
    "id": "sZl6T8MjiuOD"
   },
   "source": [
    "## Create the dataset and load the trained model"
   ]
  },
  {
   "cell_type": "code",
   "execution_count": 42,
   "metadata": {
    "executionInfo": {
     "elapsed": 3,
     "status": "ok",
     "timestamp": 1643617654948,
     "user": {
      "displayName": "Timo Bohnstedt",
      "photoUrl": "https://lh3.googleusercontent.com/a-/AOh14GjKtWSKj2quNeSBKu9HJVcxjnTOrJixK-TXw5rjgQ=s64",
      "userId": "17640216031717297977"
     },
     "user_tz": -60
    },
    "id": "PGzkf-ckKUXd"
   },
   "outputs": [],
   "source": [
    "output_path = './gdrive/MyDrive/mt/out/' + 'Dataset_3_Scheduler_Densenet121_MultiSimilarityLoss_MultiSimilarityMiner/saved_models/'\n",
    "\n",
    "trunk_model = output_path + 'trunk_best13.pth'\n",
    "embedder_model = output_path + 'embedder_best13.pth'\n",
    "classifier_model = output_path + 'classifier_best13.pth'"
   ]
  },
  {
   "cell_type": "code",
   "execution_count": 43,
   "metadata": {
    "colab": {
     "base_uri": "https://localhost:8080/"
    },
    "executionInfo": {
     "elapsed": 415,
     "status": "ok",
     "timestamp": 1643617655360,
     "user": {
      "displayName": "Timo Bohnstedt",
      "photoUrl": "https://lh3.googleusercontent.com/a-/AOh14GjKtWSKj2quNeSBKu9HJVcxjnTOrJixK-TXw5rjgQ=s64",
      "userId": "17640216031717297977"
     },
     "user_tz": -60
    },
    "id": "3rDNNVjjito4",
    "outputId": "cea117ee-446f-43ea-fad0-0c53a4693372"
   },
   "outputs": [
    {
     "data": {
      "text/plain": [
       "<All keys matched successfully>"
      ]
     },
     "execution_count": 43,
     "metadata": {},
     "output_type": "execute_result"
    }
   ],
   "source": [
    "trunk = torchvision.models.densenet121(pretrained=False)\n",
    "trunk_output_size = trunk.classifier.in_features\n",
    "trunk.classifier = c_f.Identity()\n",
    "trunk.to(torch.device('cuda'))\n",
    "trunk.load_state_dict(torch.load(trunk_model))"
   ]
  },
  {
   "cell_type": "code",
   "execution_count": 44,
   "metadata": {
    "colab": {
     "base_uri": "https://localhost:8080/"
    },
    "executionInfo": {
     "elapsed": 4,
     "status": "ok",
     "timestamp": 1643617655360,
     "user": {
      "displayName": "Timo Bohnstedt",
      "photoUrl": "https://lh3.googleusercontent.com/a-/AOh14GjKtWSKj2quNeSBKu9HJVcxjnTOrJixK-TXw5rjgQ=s64",
      "userId": "17640216031717297977"
     },
     "user_tz": -60
    },
    "id": "2XG0iaI9JoSw",
    "outputId": "fb38aebc-c8b3-4434-94f2-c21197b6d7e0"
   },
   "outputs": [
    {
     "data": {
      "text/plain": [
       "<All keys matched successfully>"
      ]
     },
     "execution_count": 44,
     "metadata": {},
     "output_type": "execute_result"
    }
   ],
   "source": [
    "embedder = models.MLP([trunk_output_size, 64]).to(torch.device('cuda'))\n",
    "embedder.load_state_dict(torch.load(embedder_model))"
   ]
  },
  {
   "cell_type": "code",
   "execution_count": 44,
   "metadata": {
    "executionInfo": {
     "elapsed": 3,
     "status": "ok",
     "timestamp": 1643617655361,
     "user": {
      "displayName": "Timo Bohnstedt",
      "photoUrl": "https://lh3.googleusercontent.com/a-/AOh14GjKtWSKj2quNeSBKu9HJVcxjnTOrJixK-TXw5rjgQ=s64",
      "userId": "17640216031717297977"
     },
     "user_tz": -60
    },
    "id": "302xsBmrPAHE"
   },
   "outputs": [],
   "source": []
  },
  {
   "cell_type": "markdown",
   "metadata": {
    "id": "b176nhrwimmf"
   },
   "source": [
    "## Create the InferenceModel wrapper"
   ]
  },
  {
   "cell_type": "code",
   "execution_count": 45,
   "metadata": {
    "executionInfo": {
     "elapsed": 2,
     "status": "ok",
     "timestamp": 1643617656580,
     "user": {
      "displayName": "Timo Bohnstedt",
      "photoUrl": "https://lh3.googleusercontent.com/a-/AOh14GjKtWSKj2quNeSBKu9HJVcxjnTOrJixK-TXw5rjgQ=s64",
      "userId": "17640216031717297977"
     },
     "user_tz": -60
    },
    "id": "O31YgmOHKF_M"
   },
   "outputs": [],
   "source": [
    "match_finder = MatchFinder(distance=CosineSimilarity(), threshold=0.9)"
   ]
  },
  {
   "cell_type": "code",
   "execution_count": 46,
   "metadata": {
    "executionInfo": {
     "elapsed": 2,
     "status": "ok",
     "timestamp": 1643617656581,
     "user": {
      "displayName": "Timo Bohnstedt",
      "photoUrl": "https://lh3.googleusercontent.com/a-/AOh14GjKtWSKj2quNeSBKu9HJVcxjnTOrJixK-TXw5rjgQ=s64",
      "userId": "17640216031717297977"
     },
     "user_tz": -60
    },
    "id": "WQAMm9ccKG42"
   },
   "outputs": [],
   "source": [
    "inference_model = InferenceModel(trunk,\n",
    "                embedder=embedder,\n",
    "                match_finder=match_finder,\n",
    "                normalize_embeddings=True,)"
   ]
  },
  {
   "cell_type": "markdown",
   "metadata": {
    "id": "WvflnxyY97a1"
   },
   "source": [
    "## Get nearest neighbors of a query"
   ]
  },
  {
   "cell_type": "code",
   "execution_count": 47,
   "metadata": {
    "executionInfo": {
     "elapsed": 8691,
     "status": "ok",
     "timestamp": 1643617666321,
     "user": {
      "displayName": "Timo Bohnstedt",
      "photoUrl": "https://lh3.googleusercontent.com/a-/AOh14GjKtWSKj2quNeSBKu9HJVcxjnTOrJixK-TXw5rjgQ=s64",
      "userId": "17640216031717297977"
     },
     "user_tz": -60
    },
    "id": "6FrFe1-H-DIp"
   },
   "outputs": [],
   "source": [
    "# create faiss index\n",
    "inference_model.train_knn(dataset)"
   ]
  },
  {
   "cell_type": "code",
   "execution_count": 48,
   "metadata": {
    "colab": {
     "base_uri": "https://localhost:8080/"
    },
    "executionInfo": {
     "elapsed": 1235257,
     "status": "ok",
     "timestamp": 1643618904548,
     "user": {
      "displayName": "Timo Bohnstedt",
      "photoUrl": "https://lh3.googleusercontent.com/a-/AOh14GjKtWSKj2quNeSBKu9HJVcxjnTOrJixK-TXw5rjgQ=s64",
      "userId": "17640216031717297977"
     },
     "user_tz": -60
    },
    "id": "jf48dl2OBV74",
    "outputId": "48816ec0-eaa8-4f67-de5d-601ebf20f432"
   },
   "outputs": [
    {
     "name": "stdout",
     "output_type": "stream",
     "text": [
      "Top-1 Acc of Papy 17859: 80 / 80 = 1.0\n",
      "Top-1 Acc of Papy 9313: 40 / 40 = 1.0\n",
      "Top-1 Acc of Papy 13280: 40 / 40 = 1.0\n",
      "Top-1 Acc of Papy 4444: 120 / 120 = 1.0\n",
      "Top-1 Acc of Papy 12226: 40 / 40 = 1.0\n",
      "Top-1 Acc of Papy 15170: 80 / 80 = 1.0\n",
      "Top-1 Acc of Papy 14640: 58 / 58 = 1.0\n",
      "Top-1 Acc of Papy 15632: 40 / 40 = 1.0\n",
      "Top-1 Acc of Papy 17860: 80 / 80 = 1.0\n",
      "Top-1 Acc of Papy 12617: 120 / 120 = 1.0\n",
      "Top-1 Acc of Papy 13884: 160 / 160 = 1.0\n",
      "Top-1 Acc of Papy 5164: 60 / 60 = 1.0\n",
      "Top-1 Acc of Papy 13897: 180 / 180 = 1.0\n",
      "Top-1 Acc of Papy 12840: 51 / 100 = 0.51\n",
      "Top-1 Acc of Papy 13971: 70 / 70 = 1.0\n",
      "Top-1 Acc of Papy 8601: 48 / 48 = 1.0\n",
      "Top-1 Acc of Papy 17077: 80 / 80 = 1.0\n",
      "Top-1 Acc of Papy 14817: 80 / 80 = 1.0\n",
      "Top-1 Acc of Papy 13682: 72 / 72 = 1.0\n",
      "Top-1 Acc of Papy 12810: 80 / 80 = 1.0\n",
      "Top-1 Acc of Papy 16613: 60 / 60 = 1.0\n",
      "Top-1 Acc of Papy 9312: 60 / 60 = 1.0\n",
      "Top-1 Acc of Papy 11346: 40 / 40 = 1.0\n",
      "Top-1 Acc of Papy 9872: 40 / 40 = 1.0\n",
      "Top-1 Acc of Papy 17060: 40 / 40 = 1.0\n",
      "Top-1 Acc of Papy 11526: 60 / 60 = 1.0\n",
      "Top-1 Acc of Papy 17578: 60 / 60 = 1.0\n",
      "Top-1 Acc of Papy 18531: 55 / 61 = 0.9016393442622951\n",
      "Top-1 Acc of Papy 9775: 40 / 40 = 1.0\n",
      "Top-1 Acc of Papy 10665: 80 / 80 = 1.0\n",
      "Top-1 Acc of Papy 17117: 80 / 80 = 1.0\n",
      "Top-1 Acc of Papy 15687: 40 / 40 = 1.0\n",
      "Top-1 Acc of Papy 9744: 40 / 40 = 1.0\n",
      "Top-1 Acc of Papy 9331: 40 / 40 = 1.0\n",
      "Top-1 Acc of Papy 13888: 60 / 60 = 1.0\n",
      "Top-1 Acc of Papy 18301: 80 / 80 = 1.0\n",
      "Top-1 Acc of Papy 8873: 60 / 60 = 1.0\n",
      "Top-1 Acc of Papy 9746: 40 / 40 = 1.0\n",
      "Top-1 Acc of Papy 9112: 40 / 40 = 1.0\n",
      "Top-1 Acc of Papy 10100: 40 / 40 = 1.0\n",
      "Top-1 Acc of Papy 12145: 40 / 40 = 1.0\n",
      "Top-1 Acc of Papy 13330: 40 / 40 = 1.0\n",
      "Top-1 Acc of Papy 9799: 40 / 40 = 1.0\n",
      "Top-1 Acc of Papy 15545: 40 / 40 = 1.0\n",
      "Top-1 Acc of Papy 9936: 40 / 40 = 1.0\n",
      "Top-1 Acc of Papy 13979: 200 / 200 = 1.0\n",
      "Top-1 Acc of Papy 16622: 11 / 60 = 0.18333333333333332\n",
      "Top-1 Acc of Papy 12051: 60 / 60 = 1.0\n",
      "Top-1 Acc of Papy 18444: 160 / 160 = 1.0\n",
      "Top-1 Acc of Papy 16723: 40 / 40 = 1.0\n",
      "Top-1 Acc of Papy 4170: 80 / 80 = 1.0\n",
      "Top-1 Acc of Papy 5227: 80 / 80 = 1.0\n",
      "Top-1 Acc of Papy 14727: 180 / 180 = 1.0\n",
      "Top-1 Acc of Papy 13543: 60 / 60 = 1.0\n",
      "Top-1 Acc of Papy 4503: 80 / 80 = 1.0\n",
      "Top-1 Acc of Papy 16621: 49 / 60 = 0.8166666666666667\n",
      "Top-1 Acc of Papy 13421: 70 / 70 = 1.0\n",
      "Top-1 Acc of Papy 12010: 80 / 80 = 1.0\n",
      "Top-1 Acc of Papy 16599: 55 / 55 = 1.0\n",
      "Top-1 Acc of Papy 14722: 120 / 120 = 1.0\n",
      "Top-1 Acc of Papy 13260: 40 / 40 = 1.0\n",
      "Top-1 Acc of Papy 12744: 60 / 60 = 1.0\n",
      "Top-1 Acc of Papy 13414: 40 / 40 = 1.0\n",
      "Top-1 Acc of Papy 11462: 58 / 58 = 1.0\n",
      "Top-1 Acc of Papy 12804: 49 / 100 = 0.49\n",
      "Top-1 Acc of Papy 10020: 40 / 40 = 1.0\n",
      "Top-1 Acc of Papy 16882: 40 / 40 = 1.0\n",
      "Top-1 Acc of Papy 16706: 40 / 40 = 1.0\n",
      "Top-1 Acc of Papy 9096: 40 / 40 = 1.0\n",
      "Top-1 Acc of Papy 16636: 40 / 40 = 1.0\n",
      "Top-1 Acc of Papy 16618: 60 / 60 = 1.0\n",
      "Top-1 Acc of Papy 2217: 80 / 80 = 1.0\n",
      "Top-1 Acc of Papy 17851: 80 / 80 = 1.0\n",
      "Top-1 Acc of Papy 17952: 80 / 80 = 1.0\n",
      "Top-1 Acc of Papy 10065: 40 / 40 = 1.0\n",
      "Top-1 Acc of Papy 10066: 40 / 40 = 1.0\n",
      "Top-1 Acc of Papy 12491: 60 / 60 = 1.0\n",
      "Top-1 Acc of Papy 12210: 80 / 80 = 1.0\n",
      "Top-1 Acc of Papy 17054: 80 / 80 = 1.0\n",
      "Top-1 Acc of Papy 13395: 40 / 40 = 1.0\n",
      "Top-1 Acc of Papy 9370: 40 / 40 = 1.0\n",
      "Top-1 Acc of Papy 9950: 120 / 120 = 1.0\n",
      "Top-1 Acc of Papy 4190: 48 / 48 = 1.0\n",
      "Top-1 Acc of Papy 12844: 40 / 40 = 1.0\n",
      "Top-1 Acc of Papy 17048: 40 / 40 = 1.0\n",
      "Top-1 Acc of Papy 13396: 40 / 40 = 1.0\n",
      "Top-1 Acc of Papy 17049: 40 / 40 = 1.0\n",
      "Top-1 Acc of Papy 13272: 40 / 40 = 1.0\n",
      "Top-1 Acc of Papy 15557: 40 / 40 = 1.0\n",
      "Top-1 Acc of Papy 15684: 40 / 40 = 1.0\n",
      "Top-1 Acc of Papy 11438: 220 / 220 = 1.0\n",
      "Top-1 Acc of Papy 14869: 100 / 100 = 1.0\n",
      "Top-1 Acc of Papy 10077: 40 / 40 = 1.0\n",
      "Top-1 Acc of Papy 18532: 6 / 61 = 0.09836065573770492\n",
      "Top-1 Acc of Papy 11457: 100 / 100 = 1.0\n",
      "Top-1 Acc of Papy 2826: 49 / 49 = 1.0\n",
      "Top-1 Acc of Papy 16708: 0 / 40 = 0.0\n",
      "Top-1 Acc of Papy 13071: 72 / 72 = 1.0\n",
      "Top-1 Acc of Papy 10062: 40 / 40 = 1.0\n",
      "Top-1 Acc of Papy 13334: 40 / 40 = 1.0\n",
      "Overall Top-1 Acc: 0.96\n"
     ]
    }
   ],
   "source": [
    "sacc = []\n",
    "for i, (key, papyid) in enumerate(labels_to_indices.items()):\n",
    "    top_1 = 0\n",
    "    for j in range(len(papyid)):\n",
    "        \n",
    "        img = dataset[papyid[j]][0].unsqueeze(0)\n",
    "        #print(type(img))\n",
    "        #print(img.shape)\n",
    "        #print(f\"query image {keys[i]}\")\n",
    "        #imshow(torchvision.utils.make_grid(img))\n",
    "        distances, indices = inference_model.get_nearest_neighbors(img, k=10)\n",
    "        nearest_imgs = [dataset[i][0] for i in indices.cpu()[0]]\n",
    "        labels = [dataset[i][1] for i in indices.cpu()[0]]\n",
    "        if labels[0] == key:\n",
    "            top_1 = top_1 + 1\n",
    "        #print(\"nearest images\")\n",
    "        #imshow(torchvision.utils.make_grid(nearest_imgs))\n",
    "        #print(labels)\n",
    "    class_top_1 = top_1 / (j +1)\n",
    "    acc.append(class_top_1)\n",
    "    print(f\"Top-1 Acc of Papy {key}: {top_1} / {j+1} = {class_top_1}\")\n",
    "print(f\"Overall Top-1 Acc: {np.array(acc).mean()}\")\n",
    "        \n",
    "#get_top_1()"
   ]
  }
 ],
 "metadata": {
  "accelerator": "GPU",
  "colab": {
   "collapsed_sections": [],
   "name": "1.0-Inference-tb.ipynb",
   "provenance": [
    {
     "file_id": "https://github.com/KevinMusgrave/pytorch-metric-learning/blob/master/examples/notebooks/Inference.ipynb",
     "timestamp": 1643464771822
    }
   ]
  },
  "kernelspec": {
   "display_name": "Python 3 (ipykernel)",
   "language": "python",
   "name": "python3"
  },
  "language_info": {
   "codemirror_mode": {
    "name": "ipython",
    "version": 3
   },
   "file_extension": ".py",
   "mimetype": "text/x-python",
   "name": "python",
   "nbconvert_exporter": "python",
   "pygments_lexer": "ipython3",
   "version": "3.8.12"
  }
 },
 "nbformat": 4,
 "nbformat_minor": 4
}
