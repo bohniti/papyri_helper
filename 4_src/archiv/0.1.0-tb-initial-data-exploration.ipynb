{
 "cells": [
  {
   "cell_type": "code",
   "execution_count": null,
   "metadata": {},
   "outputs": [],
   "source": [
    "from pathlib import Path\n",
    "import cv2\n",
    "import matplotlib.pyplot as plt\n",
    "import random\n",
    "from skimage.filters import (threshold_otsu, threshold_niblack,threshold_sauvola)\n",
    "import numpy as np\n",
    "\n",
    "random.seed(10)"
   ]
  },
  {
   "cell_type": "markdown",
   "metadata": {},
   "source": [
    "# Exploratory"
   ]
  },
  {
   "cell_type": "code",
   "execution_count": null,
   "metadata": {},
   "outputs": [],
   "source": [
    "#TODO introduce a variabl n to increase speed while debugging\n",
    "def get_raw_data(path):\n",
    "    p = Path(path).glob('**/*.jpg')\n",
    "    files = [x for x in p if x.is_file()]\n",
    "    #return files\n",
    "    imgs = {}\n",
    "    for file in files:\n",
    "        imgs[str(file)] = cv2.imread(str(file))\n",
    "    return imgs"
   ]
  },
  {
   "cell_type": "code",
   "execution_count": null,
   "metadata": {},
   "outputs": [],
   "source": [
    "path = '/Users/beantown/PycharmProjects/master-thesis/data/raw'\n",
    "files = get_raw_data(path)"
   ]
  },
  {
   "cell_type": "code",
   "execution_count": null,
   "metadata": {},
   "outputs": [],
   "source": [
    "def show_example(files, keep_size=True, n=1, hide_spines=False, gray=False, add_to_title=None):\n",
    "    for i in range(n):\n",
    "        dpi = 80\n",
    "\n",
    "        key, value = random.choice(list(files.items()))\n",
    "        if not gray:\n",
    "            im_data = cv2.cvtColor(value, cv2.COLOR_BGR2RGB)\n",
    "        else:\n",
    "            im_data = value.copy()\n",
    "            \n",
    "        title = str(key).split('/')[-1].split('.')[0]\n",
    "        if add_to_title != None:\n",
    "            title = add_to_title + ': ' + title\n",
    "\n",
    "\n",
    "        if keep_size:\n",
    "            if gray:\n",
    "                height, width = im_data.shape\n",
    "            else:\n",
    "                height, width, _ = im_data.shape\n",
    "\n",
    "            # What size does the figure need to be in inches to fit the image?\n",
    "            figsize = width / float(dpi), height / float(dpi)\n",
    "\n",
    "            # Create a figure of the right size with one axes that takes up the full figure\n",
    "            fig = plt.figure(figsize=figsize)\n",
    "            ax = fig.add_axes([0, 0, 1, 1])\n",
    "\n",
    "            # Hide spines, ticks, etc.\n",
    "            #ax.axis('off')\n",
    "            if hide_spines:\n",
    "                ax.axis('off')\n",
    "            else:\n",
    "                ax.tick_params(axis='both', which='major', labelsize=40)\n",
    "                ax.tick_params(axis='both', which='minor', labelsize=30)\n",
    "            \n",
    "            ax.set_title(title, pad=30, fontsize=50)\n",
    "\n",
    "            # Display the image.\n",
    "            if gray:\n",
    "                ax.imshow(im_data, cmap='gray')\n",
    "            else:\n",
    "                ax.imshow(im_data)\n",
    "        else:\n",
    "            plt.title(title, pad=20, fontsize=20)\n",
    "            if hide_spines:\n",
    "                plt.axis('off')\n",
    "            if gray:\n",
    "                plt.imshow(im_data, cmap='gray')\n",
    "            else:\n",
    "                plt.imshow(im_data)\n",
    "\n",
    "        plt.show()    "
   ]
  },
  {
   "cell_type": "code",
   "execution_count": null,
   "metadata": {},
   "outputs": [],
   "source": [
    "show_example(files, keep_size=False, n=2,  hide_spines=False)"
   ]
  },
  {
   "cell_type": "code",
   "execution_count": null,
   "metadata": {},
   "outputs": [],
   "source": [
    "key, value = random.choice(list(files.items()))\n",
    "test_file = {key:value}\n",
    "show_example(test_file, keep_size=True, n=1,  hide_spines=False)"
   ]
  },
  {
   "cell_type": "code",
   "execution_count": null,
   "metadata": {},
   "outputs": [],
   "source": [
    "def get_forground(files, method='otsu'):\n",
    "    # use a specific method if nothing else is given or it uses global theshold with otsu as default\n",
    "    forground_files = {}\n",
    "    window_size = 25\n",
    "    if method == 'niblack':\n",
    "        for key, value in files.items():\n",
    "            # Prprocessing\n",
    "            image = cv2.cvtColor(value, cv2.COLOR_BGR2GRAY)\n",
    "            #blurred = cv2.GaussianBlur(im_gray, (7, 7), 0)\n",
    "            thresh_niblack = threshold_niblack(image, window_size=window_size, k=0.8)\n",
    "            binary_niblack = image > thresh_niblack\n",
    "            forground_files[key] = binary_niblack\n",
    "            \n",
    "    elif method == 'sauvola':\n",
    "        for key, value in files.items():\n",
    "            # Prprocessing\n",
    "            image = cv2.cvtColor(value, cv2.COLOR_BGR2GRAY)\n",
    "            #blurred = cv2.GaussianBlur(im_gray, (7, 7), 0)\n",
    "            thresh_sauvola = threshold_sauvola(image, window_size=window_size)\n",
    "            binary_sauvola = image > thresh_sauvola\n",
    "            forground_files[key] = binary_sauvola\n",
    "    \n",
    "            \n",
    "    else:\n",
    "         for key, value in files.items():\n",
    "            # Prprocessing\n",
    "            image = cv2.cvtColor(value, cv2.COLOR_BGR2GRAY)\n",
    "            #blurred = cv2.GaussianBlur(im_gray, (7, 7), 0)\n",
    "            binary_global = image > threshold_otsu(image)\n",
    "            forground_files[key] = binary_global\n",
    "            \n",
    "    return forground_files"
   ]
  },
  {
   "cell_type": "code",
   "execution_count": null,
   "metadata": {},
   "outputs": [],
   "source": [
    "otsu_files = get_forground(files,)\n",
    "sauvola_files = get_forground(files, method = 'sauvola')\n",
    "niblack_files = get_forground(files, method = 'niblack')"
   ]
  },
  {
   "cell_type": "code",
   "execution_count": null,
   "metadata": {},
   "outputs": [],
   "source": [
    "otsu_img = {key: otsu_files[key]}\n",
    "sauvola_img = {key: sauvola_files[key]}\n",
    "niblack_img =  {key: niblack_files[key]}"
   ]
  },
  {
   "cell_type": "code",
   "execution_count": null,
   "metadata": {},
   "outputs": [],
   "source": [
    "show_example(otsu_img, keep_size=True, n=1,  hide_spines=False, gray=True, add_to_title='otsu_img')\n",
    "show_example(sauvola_img, keep_size=True, n=1,  hide_spines=False, gray=True, add_to_title='sauvola_img')\n",
    "show_example(niblack_img, keep_size=True, n=1,  hide_spines=False, gray=True, add_to_title='niblack_img')"
   ]
  }
 ],
 "metadata": {
  "kernelspec": {
   "display_name": "thesis-exploratory",
   "language": "python",
   "name": "thesis-exploratory"
  },
  "language_info": {
   "codemirror_mode": {
    "name": "ipython",
    "version": 3
   },
   "file_extension": ".py",
   "mimetype": "text/x-python",
   "name": "python",
   "nbconvert_exporter": "python",
   "pygments_lexer": "ipython3",
   "version": "3.8.12"
  }
 },
 "nbformat": 4,
 "nbformat_minor": 4
}
